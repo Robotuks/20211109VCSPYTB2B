{
 "cells": [
  {
   "cell_type": "code",
   "execution_count": 1,
   "metadata": {},
   "outputs": [],
   "source": [
    "my_int = 6\n",
    "my_float = 6."
   ]
  },
  {
   "cell_type": "code",
   "execution_count": 3,
   "metadata": {},
   "outputs": [
    {
     "name": "stdout",
     "output_type": "stream",
     "text": [
      "<class 'int'>\n",
      "<class 'float'>\n"
     ]
    }
   ],
   "source": [
    "print (type(my_int) )\n",
    "print (type(my_float))"
   ]
  },
  {
   "cell_type": "code",
   "execution_count": 4,
   "metadata": {},
   "outputs": [
    {
     "data": {
      "text/plain": [
       "12"
      ]
     },
     "execution_count": 4,
     "metadata": {},
     "output_type": "execute_result"
    }
   ],
   "source": [
    "3 + 9"
   ]
  },
  {
   "cell_type": "code",
   "execution_count": 5,
   "metadata": {},
   "outputs": [
    {
     "data": {
      "text/plain": [
       "6.0"
      ]
     },
     "execution_count": 5,
     "metadata": {},
     "output_type": "execute_result"
    }
   ],
   "source": [
    "3 + 3."
   ]
  },
  {
   "cell_type": "code",
   "execution_count": null,
   "metadata": {},
   "outputs": [],
   "source": []
  },
  {
   "cell_type": "markdown",
   "metadata": {},
   "source": [
    "## Operators"
   ]
  },
  {
   "cell_type": "code",
   "execution_count": 17,
   "metadata": {},
   "outputs": [
    {
     "name": "stdout",
     "output_type": "stream",
     "text": [
      "-6\n",
      "27\n",
      "0.3333333333333333\n",
      "1.0\n",
      "power of\n",
      "19683\n",
      "9\n",
      "division\n",
      "4.5\n",
      "4\n",
      "3.6666666666666665\n",
      "3\n",
      "4\n",
      "Remainder\n",
      "2\n"
     ]
    }
   ],
   "source": [
    "print (3 - 9 )\n",
    "print (3 * 9 )\n",
    "print (3 / 9 )\n",
    "print (3 / 3 )\n",
    "print ('power of')\n",
    "print (3 ** 9 )\n",
    "print (3 ** 2 )\n",
    "print ('division')\n",
    "print (9 / 2 )\n",
    "print (9 // 2 )\n",
    "print (11 / 3 )\n",
    "print (11 // 3 )\n",
    "print (9 // 2 )\n",
    "print( 'Remainder')\n",
    "print (11 % 3 )"
   ]
  },
  {
   "cell_type": "code",
   "execution_count": 18,
   "metadata": {},
   "outputs": [
    {
     "data": {
      "text/plain": [
       "4"
      ]
     },
     "execution_count": 18,
     "metadata": {},
     "output_type": "execute_result"
    }
   ],
   "source": [
    "4 % 5"
   ]
  },
  {
   "cell_type": "code",
   "execution_count": 19,
   "metadata": {},
   "outputs": [
    {
     "data": {
      "text/plain": [
       "1"
      ]
     },
     "execution_count": 19,
     "metadata": {},
     "output_type": "execute_result"
    }
   ],
   "source": [
    "6 % 5"
   ]
  },
  {
   "cell_type": "code",
   "execution_count": 22,
   "metadata": {},
   "outputs": [
    {
     "name": "stdout",
     "output_type": "stream",
     "text": [
      "even 0\n",
      "uneven 1\n"
     ]
    }
   ],
   "source": [
    "print ( 'even',1465546 % 2)\n",
    "print ('uneven',1465547 % 2)"
   ]
  },
  {
   "cell_type": "code",
   "execution_count": 23,
   "metadata": {},
   "outputs": [
    {
     "data": {
      "text/plain": [
       "1.5"
      ]
     },
     "execution_count": 23,
     "metadata": {},
     "output_type": "execute_result"
    }
   ],
   "source": [
    "5.5 % 2 "
   ]
  },
  {
   "cell_type": "code",
   "execution_count": 28,
   "metadata": {},
   "outputs": [
    {
     "name": "stdout",
     "output_type": "stream",
     "text": [
      "sum: 16\n",
      "subtract: 10\n",
      "multiply: 39\n",
      "power of: 2197\n",
      "Divide: 4.333333333333333\n",
      "Modulus: 1\n"
     ]
    }
   ],
   "source": [
    "my_int_1 = 13\n",
    "my_int_2 = 3\n",
    "print (f'sum: {my_int_1 + my_int_2}')\n",
    "print (f'subtract: {my_int_1 - my_int_2}')\n",
    "print (f'multiply: {my_int_1 * my_int_2}')\n",
    "print (f'power of: {my_int_1 ** my_int_2}')\n",
    "print (f'Divide: {my_int_1 / my_int_2}')\n",
    "print (f'Modulus: {my_int_1 % my_int_2}')"
   ]
  },
  {
   "cell_type": "code",
   "execution_count": 29,
   "metadata": {},
   "outputs": [
    {
     "name": "stdout",
     "output_type": "stream",
     "text": [
      "sum: 16.5598498\n",
      "subtract: 10.2798498\n",
      "multiply: 42.138328372000004\n",
      "power of: 3476.3831555637157\n",
      "Divide: 4.273837515923566\n",
      "Modulus: 0.8598497999999992\n"
     ]
    }
   ],
   "source": [
    "my_float_1 = 13.4198498\n",
    "my_float_2 = 3.14\n",
    "print (f'sum: {my_float_1 + my_float_2}')\n",
    "print (f'subtract: {my_float_1 - my_float_2}')\n",
    "print (f'multiply: {my_float_1 * my_float_2}')\n",
    "print (f'power of: {my_float_1 ** my_float_2}')\n",
    "print (f'Divide: {my_float_1 / my_float_2}')\n",
    "print (f'Modulus: {my_float_1 % my_float_2}')"
   ]
  },
  {
   "cell_type": "code",
   "execution_count": 30,
   "metadata": {},
   "outputs": [
    {
     "data": {
      "text/plain": [
       "390.625"
      ]
     },
     "execution_count": 30,
     "metadata": {},
     "output_type": "execute_result"
    }
   ],
   "source": [
    "dist_moon = 384000\n",
    "dist_sun = 150000000\n",
    "dist_sun/ dist_moon"
   ]
  },
  {
   "cell_type": "code",
   "execution_count": 36,
   "metadata": {},
   "outputs": [
    {
     "name": "stdout",
     "output_type": "stream",
     "text": [
      "seconds to the moon 9216000.0\n",
      "hours to the moon 2560.0\n",
      "days to the moon 106.66666666666667\n",
      "months to the moon 3.555555555555556\n",
      "years to the moon 0.29629629629629634\n"
     ]
    }
   ],
   "source": [
    "speed = 150\n",
    "print (f'seconds to the moon {dist_moon/speed*3600}')\n",
    "print (f'hours to the moon {dist_moon/speed}')\n",
    "print (f'days to the moon {dist_moon/speed/24}')\n",
    "print (f'months to the moon {dist_moon/speed/24/30}')\n",
    "print (f'years to the moon {dist_moon/speed/24/30/12}')"
   ]
  },
  {
   "cell_type": "code",
   "execution_count": 47,
   "metadata": {},
   "outputs": [
    {
     "name": "stdout",
     "output_type": "stream",
     "text": [
      "2021-11-16 10:57:47.131564\n",
      "We would reach the moon on 2022-03-03 02:57:47.131564\n"
     ]
    }
   ],
   "source": [
    "# import datetime\n",
    "from datetime import datetime\n",
    "from datetime import timedelta\n",
    "from datetime import date\n",
    "\n",
    "print (datetime.now() )\n",
    "my_birthday = date(1986,5,4)\n",
    "datetime.now().date() - my_birthday\n",
    "\n",
    "delta = timedelta(seconds=dist_moon/speed*3600)\n",
    "print (f'We would reach the moon on {datetime.now() + delta}')"
   ]
  },
  {
   "cell_type": "code",
   "execution_count": 49,
   "metadata": {},
   "outputs": [
    {
     "name": "stdout",
     "output_type": "stream",
     "text": [
      "False\n",
      "<class 'bool'>\n"
     ]
    }
   ],
   "source": [
    "my_bool = 1 > 2\n",
    "print (my_bool)\n",
    "print (type(my_bool))"
   ]
  },
  {
   "cell_type": "code",
   "execution_count": 54,
   "metadata": {},
   "outputs": [
    {
     "name": "stdout",
     "output_type": "stream",
     "text": [
      "6\n",
      "my_int is even False\n"
     ]
    }
   ],
   "source": [
    "my_bool_2 = True\n",
    "my_bool_3 = False\n",
    "# my_bad_bool = true\n",
    "print(my_int)\n",
    "is_even = my_int % 2 == 0\n",
    "\n",
    "print (f'my_int is even {is_even}')"
   ]
  },
  {
   "cell_type": "markdown",
   "metadata": {},
   "source": [
    "## Comparison operators"
   ]
  },
  {
   "cell_type": "code",
   "execution_count": 60,
   "metadata": {},
   "outputs": [
    {
     "name": "stdout",
     "output_type": "stream",
     "text": [
      "equal to operator ==: True \n",
      "equal to operator ==: False \n",
      "not equal to operator !=: False \n",
      "not equal to operator !=: True \n",
      "more to operator >: True \n",
      "more to operator >=: True \n",
      "more to operator <: True \n",
      "more to operator <=: True \n"
     ]
    }
   ],
   "source": [
    "print (f'equal to operator ==: { 1 == 1} ')\n",
    "print (f'equal to operator ==: { 1 == 10} ')\n",
    "print (f'not equal to operator !=: { 1 != 1} ')\n",
    "print (f'not equal to operator !=: { 1 != 10} ')\n",
    "print (f'more to operator >: { 15 > 10} ')\n",
    "print (f'more to operator >=: { 10 >= 10} ')\n",
    "print (f'more to operator <: { 1 < 10} ')\n",
    "print (f'more to operator <=: { 10 <= 10} ')"
   ]
  },
  {
   "cell_type": "code",
   "execution_count": 62,
   "metadata": {},
   "outputs": [
    {
     "data": {
      "text/plain": [
       "True"
      ]
     },
     "execution_count": 62,
     "metadata": {},
     "output_type": "execute_result"
    }
   ],
   "source": [
    "# True and True\n",
    "10 > 2 and 2 < 5"
   ]
  },
  {
   "cell_type": "code",
   "execution_count": 63,
   "metadata": {},
   "outputs": [
    {
     "data": {
      "text/plain": [
       "False"
      ]
     },
     "execution_count": 63,
     "metadata": {},
     "output_type": "execute_result"
    }
   ],
   "source": [
    "# True and False\n",
    "10 > 2 and 10 < 5"
   ]
  },
  {
   "cell_type": "code",
   "execution_count": 65,
   "metadata": {},
   "outputs": [
    {
     "data": {
      "text/plain": [
       "False"
      ]
     },
     "execution_count": 65,
     "metadata": {},
     "output_type": "execute_result"
    }
   ],
   "source": [
    "# False or False\n",
    "10 > 20 or 10 < 5"
   ]
  },
  {
   "cell_type": "code",
   "execution_count": 64,
   "metadata": {},
   "outputs": [
    {
     "data": {
      "text/plain": [
       "True"
      ]
     },
     "execution_count": 64,
     "metadata": {},
     "output_type": "execute_result"
    }
   ],
   "source": [
    "# True or False\n",
    "10 > 2 or 10 < 5"
   ]
  },
  {
   "cell_type": "code",
   "execution_count": 66,
   "metadata": {},
   "outputs": [
    {
     "data": {
      "text/plain": [
       "False"
      ]
     },
     "execution_count": 66,
     "metadata": {},
     "output_type": "execute_result"
    }
   ],
   "source": [
    "# False or False\n",
    "10 > 20 or 10 < 5"
   ]
  },
  {
   "cell_type": "code",
   "execution_count": 67,
   "metadata": {},
   "outputs": [
    {
     "data": {
      "text/plain": [
       "True"
      ]
     },
     "execution_count": 67,
     "metadata": {},
     "output_type": "execute_result"
    }
   ],
   "source": [
    "True and 10 > 5 and 10 % 2 == 0 or False\n",
    "# <-- True ---> and <-- True -> or \n",
    "# <-- True ------------ True -> or "
   ]
  },
  {
   "cell_type": "code",
   "execution_count": 73,
   "metadata": {},
   "outputs": [
    {
     "data": {
      "text/plain": [
       "False"
      ]
     },
     "execution_count": 73,
     "metadata": {},
     "output_type": "execute_result"
    }
   ],
   "source": [
    "True and 10 > 5 and 11 % 2 == 0 or False\n",
    "# <-- True ---> and <-- False -> or \n",
    "# <--  --------False--------- -> or False"
   ]
  },
  {
   "cell_type": "code",
   "execution_count": 77,
   "metadata": {},
   "outputs": [
    {
     "name": "stdout",
     "output_type": "stream",
     "text": [
      "True\n",
      "False\n",
      "True\n"
     ]
    }
   ],
   "source": [
    "print (bool('Some text' ) ) \n",
    "print (bool('') ) \n",
    "print (bool(' ') ) "
   ]
  },
  {
   "cell_type": "code",
   "execution_count": 80,
   "metadata": {},
   "outputs": [
    {
     "name": "stdout",
     "output_type": "stream",
     "text": [
      "True\n",
      "False\n",
      "True\n",
      "True\n",
      "True\n"
     ]
    }
   ],
   "source": [
    "print (bool(5) ) \n",
    "print (bool(0) ) \n",
    "print (bool(1) ) \n",
    "print (bool(-1) ) \n",
    "print (bool(-51494898498749) ) "
   ]
  },
  {
   "cell_type": "code",
   "execution_count": 83,
   "metadata": {},
   "outputs": [
    {
     "name": "stdout",
     "output_type": "stream",
     "text": [
      "True\n",
      "False\n",
      "True\n",
      "True\n",
      "True\n",
      "True\n",
      "True\n"
     ]
    }
   ],
   "source": [
    "print (bool(5.0) ) \n",
    "print (bool(0.0) ) \n",
    "print (bool(1.0) ) \n",
    "print (bool(-1.) ) \n",
    "print (bool(-51494898498749.) ) \n",
    "print (bool(0.5) ) \n",
    "print (bool(0.00000001) )"
   ]
  },
  {
   "cell_type": "code",
   "execution_count": 85,
   "metadata": {},
   "outputs": [
    {
     "data": {
      "text/plain": [
       "False"
      ]
     },
     "execution_count": 85,
     "metadata": {},
     "output_type": "execute_result"
    }
   ],
   "source": [
    "not 5 > 2"
   ]
  },
  {
   "cell_type": "code",
   "execution_count": 86,
   "metadata": {},
   "outputs": [
    {
     "name": "stdout",
     "output_type": "stream",
     "text": [
      "False\n",
      "False\n"
     ]
    }
   ],
   "source": [
    "not_even = not 10 % 2 == 0\n",
    "print (not_even)\n",
    "not_even_2 = 10 % 2 != 0\n",
    "print (not_even_2)"
   ]
  },
  {
   "cell_type": "code",
   "execution_count": 89,
   "metadata": {},
   "outputs": [
    {
     "name": "stdout",
     "output_type": "stream",
     "text": [
      "12\n"
     ]
    }
   ],
   "source": [
    "# sum = 0\n",
    "# sum = sum + 5\n",
    "# sum = sum + 10\n",
    "# sum = sum - 3\n",
    "# print (sum)\n",
    "\n",
    "sum = 0\n",
    "sum += 5\n",
    "sum += 10\n",
    "sum -= 3\n",
    "print (sum)"
   ]
  },
  {
   "cell_type": "code",
   "execution_count": 91,
   "metadata": {},
   "outputs": [
    {
     "name": "stdout",
     "output_type": "stream",
     "text": [
      "1000\n"
     ]
    }
   ],
   "source": [
    "multiply = 1\n",
    "multiply *= 10\n",
    "multiply *= 10\n",
    "multiply *= 10\n",
    "print (multiply)"
   ]
  },
  {
   "cell_type": "markdown",
   "metadata": {},
   "source": [
    "## membership operator"
   ]
  },
  {
   "cell_type": "code",
   "execution_count": 98,
   "metadata": {},
   "outputs": [
    {
     "name": "stdout",
     "output_type": "stream",
     "text": [
      "True\n",
      "False\n",
      "False\n",
      "True\n"
     ]
    }
   ],
   "source": [
    "text = 'Hello world'\n",
    "print ('world' in text )\n",
    "print ('World' in text )\n",
    "print ('World ' in text )\n",
    "print ('Darius' not in text )"
   ]
  },
  {
   "cell_type": "markdown",
   "metadata": {},
   "source": [
    "# List"
   ]
  },
  {
   "cell_type": "code",
   "execution_count": 99,
   "metadata": {},
   "outputs": [],
   "source": [
    "my_list = [ 1, 5, 10, 15 ]"
   ]
  },
  {
   "cell_type": "code",
   "execution_count": 103,
   "metadata": {},
   "outputs": [
    {
     "name": "stdout",
     "output_type": "stream",
     "text": [
      "lenght:  4\n",
      "1st:  1\n",
      "slice:  [10, 15]\n"
     ]
    }
   ],
   "source": [
    "print ('lenght: ',len(my_list ) )\n",
    "print ('1st: ', my_list[0] )\n",
    "print ('slice: ', my_list[2:] )"
   ]
  },
  {
   "cell_type": "code",
   "execution_count": 106,
   "metadata": {},
   "outputs": [
    {
     "name": "stdout",
     "output_type": "stream",
     "text": [
      "[10, 1, 1, 2, 2, 'Darius', 'Vilnius', True, False]\n"
     ]
    }
   ],
   "source": [
    "my_list_2 = [ 10, 1, 1, 2, 2, 'Darius', 'Vilnius', True , 1 > 10]\n",
    "print( my_list_2)"
   ]
  },
  {
   "cell_type": "code",
   "execution_count": 112,
   "metadata": {},
   "outputs": [
    {
     "name": "stdout",
     "output_type": "stream",
     "text": [
      "[1, 5, 1, 14984, 10, 15, 54]\n",
      "[1, 1, 5, 10, 15, 54, 14984]\n",
      "[14984, 54, 15, 10, 5, 1, 1]\n",
      "[14984, 54, 15, 10, 5, 1, 1]\n"
     ]
    }
   ],
   "source": [
    "my_list_3 = [ 1, 5, 1, 14984, 10, 15, 54 ]\n",
    "print (my_list_3)\n",
    "# print (my_list_3.sort() ) # returns None, don't try to print it\n",
    "my_list_3.sort()\n",
    "print (my_list_3)\n",
    "print (my_list_3[::-1])\n",
    "my_list_3.sort(reverse=True)\n",
    "print (my_list_3)"
   ]
  },
  {
   "cell_type": "code",
   "execution_count": null,
   "metadata": {},
   "outputs": [],
   "source": []
  }
 ],
 "metadata": {
  "interpreter": {
   "hash": "8c46c6c26e2733b62f4307cda0d230a15e363bc8de6d84ecceb81eda1bb129bc"
  },
  "kernelspec": {
   "display_name": "Python 3.7.9 64-bit",
   "language": "python",
   "name": "python3"
  },
  "language_info": {
   "codemirror_mode": {
    "name": "ipython",
    "version": 3
   },
   "file_extension": ".py",
   "mimetype": "text/x-python",
   "name": "python",
   "nbconvert_exporter": "python",
   "pygments_lexer": "ipython3",
   "version": "3.7.9"
  },
  "orig_nbformat": 4
 },
 "nbformat": 4,
 "nbformat_minor": 2
}
