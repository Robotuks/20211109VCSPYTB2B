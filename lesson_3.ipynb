{
 "cells": [
  {
   "cell_type": "code",
   "execution_count": 1,
   "metadata": {},
   "outputs": [],
   "source": [
    "my_int = 6\n",
    "my_float = 6."
   ]
  },
  {
   "cell_type": "code",
   "execution_count": 3,
   "metadata": {},
   "outputs": [
    {
     "name": "stdout",
     "output_type": "stream",
     "text": [
      "<class 'int'>\n",
      "<class 'float'>\n"
     ]
    }
   ],
   "source": [
    "print (type(my_int) )\n",
    "print (type(my_float))"
   ]
  },
  {
   "cell_type": "code",
   "execution_count": 4,
   "metadata": {},
   "outputs": [
    {
     "data": {
      "text/plain": [
       "12"
      ]
     },
     "execution_count": 4,
     "metadata": {},
     "output_type": "execute_result"
    }
   ],
   "source": [
    "3 + 9"
   ]
  },
  {
   "cell_type": "code",
   "execution_count": 5,
   "metadata": {},
   "outputs": [
    {
     "data": {
      "text/plain": [
       "6.0"
      ]
     },
     "execution_count": 5,
     "metadata": {},
     "output_type": "execute_result"
    }
   ],
   "source": [
    "3 + 3."
   ]
  },
  {
   "cell_type": "code",
   "execution_count": null,
   "metadata": {},
   "outputs": [],
   "source": []
  },
  {
   "cell_type": "markdown",
   "metadata": {},
   "source": [
    "## Operators"
   ]
  },
  {
   "cell_type": "code",
   "execution_count": 17,
   "metadata": {},
   "outputs": [
    {
     "name": "stdout",
     "output_type": "stream",
     "text": [
      "-6\n",
      "27\n",
      "0.3333333333333333\n",
      "1.0\n",
      "power of\n",
      "19683\n",
      "9\n",
      "division\n",
      "4.5\n",
      "4\n",
      "3.6666666666666665\n",
      "3\n",
      "4\n",
      "Remainder\n",
      "2\n"
     ]
    }
   ],
   "source": [
    "print (3 - 9 )\n",
    "print (3 * 9 )\n",
    "print (3 / 9 )\n",
    "print (3 / 3 )\n",
    "print ('power of')\n",
    "print (3 ** 9 )\n",
    "print (3 ** 2 )\n",
    "print ('division')\n",
    "print (9 / 2 )\n",
    "print (9 // 2 )\n",
    "print (11 / 3 )\n",
    "print (11 // 3 )\n",
    "print (9 // 2 )\n",
    "print( 'Remainder')\n",
    "print (11 % 3 )"
   ]
  },
  {
   "cell_type": "code",
   "execution_count": 18,
   "metadata": {},
   "outputs": [
    {
     "data": {
      "text/plain": [
       "4"
      ]
     },
     "execution_count": 18,
     "metadata": {},
     "output_type": "execute_result"
    }
   ],
   "source": [
    "4 % 5"
   ]
  },
  {
   "cell_type": "code",
   "execution_count": 19,
   "metadata": {},
   "outputs": [
    {
     "data": {
      "text/plain": [
       "1"
      ]
     },
     "execution_count": 19,
     "metadata": {},
     "output_type": "execute_result"
    }
   ],
   "source": [
    "6 % 5"
   ]
  },
  {
   "cell_type": "code",
   "execution_count": 22,
   "metadata": {},
   "outputs": [
    {
     "name": "stdout",
     "output_type": "stream",
     "text": [
      "even 0\n",
      "uneven 1\n"
     ]
    }
   ],
   "source": [
    "print ( 'even',1465546 % 2)\n",
    "print ('uneven',1465547 % 2)"
   ]
  },
  {
   "cell_type": "code",
   "execution_count": 23,
   "metadata": {},
   "outputs": [
    {
     "data": {
      "text/plain": [
       "1.5"
      ]
     },
     "execution_count": 23,
     "metadata": {},
     "output_type": "execute_result"
    }
   ],
   "source": [
    "5.5 % 2 "
   ]
  },
  {
   "cell_type": "code",
   "execution_count": 28,
   "metadata": {},
   "outputs": [
    {
     "name": "stdout",
     "output_type": "stream",
     "text": [
      "sum: 16\n",
      "subtract: 10\n",
      "multiply: 39\n",
      "power of: 2197\n",
      "Divide: 4.333333333333333\n",
      "Modulus: 1\n"
     ]
    }
   ],
   "source": [
    "my_int_1 = 13\n",
    "my_int_2 = 3\n",
    "print (f'sum: {my_int_1 + my_int_2}')\n",
    "print (f'subtract: {my_int_1 - my_int_2}')\n",
    "print (f'multiply: {my_int_1 * my_int_2}')\n",
    "print (f'power of: {my_int_1 ** my_int_2}')\n",
    "print (f'Divide: {my_int_1 / my_int_2}')\n",
    "print (f'Modulus: {my_int_1 % my_int_2}')"
   ]
  },
  {
   "cell_type": "code",
   "execution_count": 29,
   "metadata": {},
   "outputs": [
    {
     "name": "stdout",
     "output_type": "stream",
     "text": [
      "sum: 16.5598498\n",
      "subtract: 10.2798498\n",
      "multiply: 42.138328372000004\n",
      "power of: 3476.3831555637157\n",
      "Divide: 4.273837515923566\n",
      "Modulus: 0.8598497999999992\n"
     ]
    }
   ],
   "source": [
    "my_float_1 = 13.4198498\n",
    "my_float_2 = 3.14\n",
    "print (f'sum: {my_float_1 + my_float_2}')\n",
    "print (f'subtract: {my_float_1 - my_float_2}')\n",
    "print (f'multiply: {my_float_1 * my_float_2}')\n",
    "print (f'power of: {my_float_1 ** my_float_2}')\n",
    "print (f'Divide: {my_float_1 / my_float_2}')\n",
    "print (f'Modulus: {my_float_1 % my_float_2}')"
   ]
  },
  {
   "cell_type": "code",
   "execution_count": 30,
   "metadata": {},
   "outputs": [
    {
     "data": {
      "text/plain": [
       "390.625"
      ]
     },
     "execution_count": 30,
     "metadata": {},
     "output_type": "execute_result"
    }
   ],
   "source": [
    "dist_moon = 384000\n",
    "dist_sun = 150000000\n",
    "dist_sun/ dist_moon"
   ]
  },
  {
   "cell_type": "code",
   "execution_count": 36,
   "metadata": {},
   "outputs": [
    {
     "name": "stdout",
     "output_type": "stream",
     "text": [
      "seconds to the moon 9216000.0\n",
      "hours to the moon 2560.0\n",
      "days to the moon 106.66666666666667\n",
      "months to the moon 3.555555555555556\n",
      "years to the moon 0.29629629629629634\n"
     ]
    }
   ],
   "source": [
    "speed = 150\n",
    "print (f'seconds to the moon {dist_moon/speed*3600}')\n",
    "print (f'hours to the moon {dist_moon/speed}')\n",
    "print (f'days to the moon {dist_moon/speed/24}')\n",
    "print (f'months to the moon {dist_moon/speed/24/30}')\n",
    "print (f'years to the moon {dist_moon/speed/24/30/12}')"
   ]
  },
  {
   "cell_type": "code",
   "execution_count": 47,
   "metadata": {},
   "outputs": [
    {
     "name": "stdout",
     "output_type": "stream",
     "text": [
      "2021-11-16 10:57:47.131564\n",
      "We would reach the moon on 2022-03-03 02:57:47.131564\n"
     ]
    }
   ],
   "source": [
    "# import datetime\n",
    "from datetime import datetime\n",
    "from datetime import timedelta\n",
    "from datetime import date\n",
    "\n",
    "print (datetime.now() )\n",
    "my_birthday = date(1986,5,4)\n",
    "datetime.now().date() - my_birthday\n",
    "\n",
    "delta = timedelta(seconds=dist_moon/speed*3600)\n",
    "print (f'We would reach the moon on {datetime.now() + delta}')"
   ]
  },
  {
   "cell_type": "code",
   "execution_count": 49,
   "metadata": {},
   "outputs": [
    {
     "name": "stdout",
     "output_type": "stream",
     "text": [
      "False\n",
      "<class 'bool'>\n"
     ]
    }
   ],
   "source": [
    "my_bool = 1 > 2\n",
    "print (my_bool)\n",
    "print (type(my_bool))"
   ]
  },
  {
   "cell_type": "code",
   "execution_count": 54,
   "metadata": {},
   "outputs": [
    {
     "name": "stdout",
     "output_type": "stream",
     "text": [
      "6\n",
      "my_int is even False\n"
     ]
    }
   ],
   "source": [
    "my_bool_2 = True\n",
    "my_bool_3 = False\n",
    "# my_bad_bool = true\n",
    "print(my_int)\n",
    "is_even = my_int % 2 == 0\n",
    "\n",
    "print (f'my_int is even {is_even}')"
   ]
  },
  {
   "cell_type": "markdown",
   "metadata": {},
   "source": [
    "## Comparison operators"
   ]
  },
  {
   "cell_type": "code",
   "execution_count": 60,
   "metadata": {},
   "outputs": [
    {
     "name": "stdout",
     "output_type": "stream",
     "text": [
      "equal to operator ==: True \n",
      "equal to operator ==: False \n",
      "not equal to operator !=: False \n",
      "not equal to operator !=: True \n",
      "more to operator >: True \n",
      "more to operator >=: True \n",
      "more to operator <: True \n",
      "more to operator <=: True \n"
     ]
    }
   ],
   "source": [
    "print (f'equal to operator ==: { 1 == 1} ')\n",
    "print (f'equal to operator ==: { 1 == 10} ')\n",
    "print (f'not equal to operator !=: { 1 != 1} ')\n",
    "print (f'not equal to operator !=: { 1 != 10} ')\n",
    "print (f'more to operator >: { 15 > 10} ')\n",
    "print (f'more to operator >=: { 10 >= 10} ')\n",
    "print (f'more to operator <: { 1 < 10} ')\n",
    "print (f'more to operator <=: { 10 <= 10} ')"
   ]
  },
  {
   "cell_type": "code",
   "execution_count": 62,
   "metadata": {},
   "outputs": [
    {
     "data": {
      "text/plain": [
       "True"
      ]
     },
     "execution_count": 62,
     "metadata": {},
     "output_type": "execute_result"
    }
   ],
   "source": [
    "# True and True\n",
    "10 > 2 and 2 < 5"
   ]
  },
  {
   "cell_type": "code",
   "execution_count": 63,
   "metadata": {},
   "outputs": [
    {
     "data": {
      "text/plain": [
       "False"
      ]
     },
     "execution_count": 63,
     "metadata": {},
     "output_type": "execute_result"
    }
   ],
   "source": [
    "# True and False\n",
    "10 > 2 and 10 < 5"
   ]
  },
  {
   "cell_type": "code",
   "execution_count": 65,
   "metadata": {},
   "outputs": [
    {
     "data": {
      "text/plain": [
       "False"
      ]
     },
     "execution_count": 65,
     "metadata": {},
     "output_type": "execute_result"
    }
   ],
   "source": [
    "# False or False\n",
    "10 > 20 or 10 < 5"
   ]
  },
  {
   "cell_type": "code",
   "execution_count": 64,
   "metadata": {},
   "outputs": [
    {
     "data": {
      "text/plain": [
       "True"
      ]
     },
     "execution_count": 64,
     "metadata": {},
     "output_type": "execute_result"
    }
   ],
   "source": [
    "# True or False\n",
    "10 > 2 or 10 < 5"
   ]
  },
  {
   "cell_type": "code",
   "execution_count": 66,
   "metadata": {},
   "outputs": [
    {
     "data": {
      "text/plain": [
       "False"
      ]
     },
     "execution_count": 66,
     "metadata": {},
     "output_type": "execute_result"
    }
   ],
   "source": [
    "# False or False\n",
    "10 > 20 or 10 < 5"
   ]
  },
  {
   "cell_type": "code",
   "execution_count": 67,
   "metadata": {},
   "outputs": [
    {
     "data": {
      "text/plain": [
       "True"
      ]
     },
     "execution_count": 67,
     "metadata": {},
     "output_type": "execute_result"
    }
   ],
   "source": [
    "True and 10 > 5 and 10 % 2 == 0 or False\n",
    "# <-- True ---> and <-- True -> or \n",
    "# <-- True ------------ True -> or "
   ]
  },
  {
   "cell_type": "code",
   "execution_count": 73,
   "metadata": {},
   "outputs": [
    {
     "data": {
      "text/plain": [
       "False"
      ]
     },
     "execution_count": 73,
     "metadata": {},
     "output_type": "execute_result"
    }
   ],
   "source": [
    "True and 10 > 5 and 11 % 2 == 0 or False\n",
    "# <-- True ---> and <-- False -> or \n",
    "# <--  --------False--------- -> or False"
   ]
  },
  {
   "cell_type": "code",
   "execution_count": 77,
   "metadata": {},
   "outputs": [
    {
     "name": "stdout",
     "output_type": "stream",
     "text": [
      "True\n",
      "False\n",
      "True\n"
     ]
    }
   ],
   "source": [
    "print (bool('Some text' ) ) \n",
    "print (bool('') ) \n",
    "print (bool(' ') ) "
   ]
  },
  {
   "cell_type": "code",
   "execution_count": 80,
   "metadata": {},
   "outputs": [
    {
     "name": "stdout",
     "output_type": "stream",
     "text": [
      "True\n",
      "False\n",
      "True\n",
      "True\n",
      "True\n"
     ]
    }
   ],
   "source": [
    "print (bool(5) ) \n",
    "print (bool(0) ) \n",
    "print (bool(1) ) \n",
    "print (bool(-1) ) \n",
    "print (bool(-51494898498749) ) "
   ]
  },
  {
   "cell_type": "code",
   "execution_count": 83,
   "metadata": {},
   "outputs": [
    {
     "name": "stdout",
     "output_type": "stream",
     "text": [
      "True\n",
      "False\n",
      "True\n",
      "True\n",
      "True\n",
      "True\n",
      "True\n"
     ]
    }
   ],
   "source": [
    "print (bool(5.0) ) \n",
    "print (bool(0.0) ) \n",
    "print (bool(1.0) ) \n",
    "print (bool(-1.) ) \n",
    "print (bool(-51494898498749.) ) \n",
    "print (bool(0.5) ) \n",
    "print (bool(0.00000001) )"
   ]
  },
  {
   "cell_type": "code",
   "execution_count": 85,
   "metadata": {},
   "outputs": [
    {
     "data": {
      "text/plain": [
       "False"
      ]
     },
     "execution_count": 85,
     "metadata": {},
     "output_type": "execute_result"
    }
   ],
   "source": [
    "not 5 > 2"
   ]
  },
  {
   "cell_type": "code",
   "execution_count": 86,
   "metadata": {},
   "outputs": [
    {
     "name": "stdout",
     "output_type": "stream",
     "text": [
      "False\n",
      "False\n"
     ]
    }
   ],
   "source": [
    "not_even = not 10 % 2 == 0\n",
    "print (not_even)\n",
    "not_even_2 = 10 % 2 != 0\n",
    "print (not_even_2)"
   ]
  },
  {
   "cell_type": "code",
   "execution_count": 89,
   "metadata": {},
   "outputs": [
    {
     "name": "stdout",
     "output_type": "stream",
     "text": [
      "12\n"
     ]
    }
   ],
   "source": [
    "# sum = 0\n",
    "# sum = sum + 5\n",
    "# sum = sum + 10\n",
    "# sum = sum - 3\n",
    "# print (sum)\n",
    "\n",
    "sum = 0\n",
    "sum += 5\n",
    "sum += 10\n",
    "sum -= 3\n",
    "print (sum)"
   ]
  },
  {
   "cell_type": "code",
   "execution_count": 91,
   "metadata": {},
   "outputs": [
    {
     "name": "stdout",
     "output_type": "stream",
     "text": [
      "1000\n"
     ]
    }
   ],
   "source": [
    "multiply = 1\n",
    "multiply *= 10\n",
    "multiply *= 10\n",
    "multiply *= 10\n",
    "print (multiply)"
   ]
  },
  {
   "cell_type": "markdown",
   "metadata": {},
   "source": [
    "## membership operator"
   ]
  },
  {
   "cell_type": "code",
   "execution_count": 98,
   "metadata": {},
   "outputs": [
    {
     "name": "stdout",
     "output_type": "stream",
     "text": [
      "True\n",
      "False\n",
      "False\n",
      "True\n"
     ]
    }
   ],
   "source": [
    "text = 'Hello world'\n",
    "print ('world' in text )\n",
    "print ('World' in text )\n",
    "print ('World ' in text )\n",
    "print ('Darius' not in text )"
   ]
  },
  {
   "cell_type": "markdown",
   "metadata": {},
   "source": [
    "# List"
   ]
  },
  {
   "cell_type": "code",
   "execution_count": 99,
   "metadata": {},
   "outputs": [],
   "source": [
    "my_list = [ 1, 5, 10, 15 ]"
   ]
  },
  {
   "cell_type": "code",
   "execution_count": 103,
   "metadata": {},
   "outputs": [
    {
     "name": "stdout",
     "output_type": "stream",
     "text": [
      "lenght:  4\n",
      "1st:  1\n",
      "slice:  [10, 15]\n"
     ]
    }
   ],
   "source": [
    "print ('lenght: ',len(my_list ) )\n",
    "print ('1st: ', my_list[0] )\n",
    "print ('slice: ', my_list[2:] )"
   ]
  },
  {
   "cell_type": "code",
   "execution_count": 106,
   "metadata": {},
   "outputs": [
    {
     "name": "stdout",
     "output_type": "stream",
     "text": [
      "[10, 1, 1, 2, 2, 'Darius', 'Vilnius', True, False]\n"
     ]
    }
   ],
   "source": [
    "my_list_2 = [ 10, 1, 1, 2, 2, 'Darius', 'Vilnius', True , 1 > 10]\n",
    "print( my_list_2)"
   ]
  },
  {
   "cell_type": "code",
   "execution_count": 112,
   "metadata": {},
   "outputs": [
    {
     "name": "stdout",
     "output_type": "stream",
     "text": [
      "[1, 5, 1, 14984, 10, 15, 54]\n",
      "[1, 1, 5, 10, 15, 54, 14984]\n",
      "[14984, 54, 15, 10, 5, 1, 1]\n",
      "[14984, 54, 15, 10, 5, 1, 1]\n"
     ]
    }
   ],
   "source": [
    "my_list_3 = [ 1, 5, 1, 14984, 10, 15, 54 ]\n",
    "print (my_list_3)\n",
    "# print (my_list_3.sort() ) # returns None, don't try to print it\n",
    "my_list_3.sort()\n",
    "print (my_list_3)\n",
    "print (my_list_3[::-1])\n",
    "my_list_3.sort(reverse=True)\n",
    "print (my_list_3)"
   ]
  },
  {
   "cell_type": "code",
   "execution_count": 1,
   "metadata": {},
   "outputs": [
    {
     "name": "stdout",
     "output_type": "stream",
     "text": [
      "[1, 5, 1, ['New list inside', 'Vilnius'], 10, 15, 54]\n",
      "['New list inside', 'Vilnius']\n"
     ]
    }
   ],
   "source": [
    "my_list_4 = [ 1, 5, 1, ['New list inside', \"Vilnius\"], 10, 15, 54 ]\n",
    "print (my_list_4)\n",
    "print (my_list_4[3])"
   ]
  },
  {
   "cell_type": "code",
   "execution_count": 4,
   "metadata": {},
   "outputs": [
    {
     "name": "stdout",
     "output_type": "stream",
     "text": [
      "[1, 5, 1, ['New list inside', 'Vilnius'], 10, 15, 54]\n",
      "[1, 100, 1, ['New list inside', 'Vilnius'], 10, 15, 54]\n"
     ]
    }
   ],
   "source": [
    "print (my_list_4 )\n",
    "my_list_4[1] = 100\n",
    "print (my_list_4)"
   ]
  },
  {
   "cell_type": "code",
   "execution_count": 8,
   "metadata": {},
   "outputs": [
    {
     "name": "stdout",
     "output_type": "stream",
     "text": [
      "[1, 100, 1, ['HAHA', 'Vilnius'], 10, 15, 54]\n"
     ]
    }
   ],
   "source": [
    "my_list_4[3][0] = 'HAHA'\n",
    "print(my_list_4)"
   ]
  },
  {
   "cell_type": "code",
   "execution_count": 10,
   "metadata": {},
   "outputs": [
    {
     "data": {
      "text/plain": [
       "array([[1., 1., 1., 1., 1.],\n",
       "       [1., 1., 1., 1., 1.],\n",
       "       [1., 1., 1., 1., 1.],\n",
       "       [1., 1., 1., 1., 1.],\n",
       "       [1., 1., 1., 1., 1.]])"
      ]
     },
     "execution_count": 10,
     "metadata": {},
     "output_type": "execute_result"
    }
   ],
   "source": [
    "# import numpy as np\n",
    "# np.ones( (5,5) )"
   ]
  },
  {
   "cell_type": "code",
   "execution_count": 12,
   "metadata": {},
   "outputs": [
    {
     "data": {
      "text/plain": [
       "[1,\n",
       " 2,\n",
       " 3,\n",
       " 'a',\n",
       " 'b',\n",
       " 'c',\n",
       " 1,\n",
       " 2,\n",
       " 3,\n",
       " 'a',\n",
       " 'b',\n",
       " 'c',\n",
       " 1,\n",
       " 2,\n",
       " 3,\n",
       " 'a',\n",
       " 'b',\n",
       " 'c',\n",
       " 1,\n",
       " 2,\n",
       " 3,\n",
       " 'a',\n",
       " 'b',\n",
       " 'c',\n",
       " 1,\n",
       " 2,\n",
       " 3,\n",
       " 'a',\n",
       " 'b',\n",
       " 'c',\n",
       " 1,\n",
       " 2,\n",
       " 3,\n",
       " 'a',\n",
       " 'b',\n",
       " 'c',\n",
       " 1,\n",
       " 2,\n",
       " 3,\n",
       " 'a',\n",
       " 'b',\n",
       " 'c',\n",
       " 1,\n",
       " 2,\n",
       " 3,\n",
       " 'a',\n",
       " 'b',\n",
       " 'c',\n",
       " 1,\n",
       " 2,\n",
       " 3,\n",
       " 'a',\n",
       " 'b',\n",
       " 'c',\n",
       " 1,\n",
       " 2,\n",
       " 3,\n",
       " 'a',\n",
       " 'b',\n",
       " 'c']"
      ]
     },
     "execution_count": 12,
     "metadata": {},
     "output_type": "execute_result"
    }
   ],
   "source": [
    "([1,2,3] + ['a', 'b', 'c'] ) * 10"
   ]
  },
  {
   "cell_type": "code",
   "execution_count": 69,
   "metadata": {},
   "outputs": [
    {
     "name": "stdout",
     "output_type": "stream",
     "text": [
      "[1, 2, 3]\n",
      "[1, 2, 3, 5, 'abs', [10, 100, 1000]]\n",
      "[1, 2, 3, 5, 'abs', [10, 100, 1000], 'a', 'b', 's', 156, 10, 100, 1000]\n",
      "1000\n",
      "[1, 2, 3, 5, 'abs', [10, 100, 1000], 'a', 'b', 's', 156, 10, 100]\n",
      "100\n",
      "[1, 2, 3, 5, 'abs', [10, 100, 1000], 'a', 'b', 's', 156, 10]\n",
      "1\n",
      "[2, 3, 5, 'abs', [10, 100, 1000], 'a', 'b', 's', 156, 10]\n"
     ]
    }
   ],
   "source": [
    "my_list = [1,2,3]\n",
    "print (my_list)\n",
    "my_list.append(5)\n",
    "my_list.append('abs')\n",
    "my_list.append( [10,100,1000] )\n",
    "print (my_list)\n",
    "my_list.extend('abs')\n",
    "my_list.extend([156])\n",
    "my_list.extend( [10,100,1000] )\n",
    "print (my_list)\n",
    "poped_value = my_list.pop()\n",
    "print (poped_value)\n",
    "print (my_list)\n",
    "poped_value = my_list.pop()\n",
    "print (poped_value)\n",
    "print (my_list)\n",
    "poped_value = my_list.pop(0)\n",
    "print (poped_value)\n",
    "print (my_list)"
   ]
  },
  {
   "cell_type": "code",
   "execution_count": 70,
   "metadata": {},
   "outputs": [
    {
     "name": "stdout",
     "output_type": "stream",
     "text": [
      "[2, 3, 5, 'abs', [10, 100, 1000], 'a', 'b', 's', 156, 10]\n",
      "[2, 3, 5, 'new_text', 'abs', [10, 100, 1000], 'a', 'b', 's', 156, 10]\n"
     ]
    }
   ],
   "source": [
    "print (my_list)\n",
    "my_list.insert(3, \"new_text\")\n",
    "print (my_list)"
   ]
  },
  {
   "cell_type": "code",
   "execution_count": 71,
   "metadata": {},
   "outputs": [
    {
     "name": "stdout",
     "output_type": "stream",
     "text": [
      "[2, 3, 5, 'new_text', 'abs', [10, 100, 1000], 'a', 'b', 's', 156, 10]\n",
      "[2, 3, 5, 'new_text', 'abs', [10, 100, 1000], 'b', 's', 156, 10]\n"
     ]
    }
   ],
   "source": [
    "print (my_list)\n",
    "my_list.remove('a') # will through an error if does not exist\n",
    "print (my_list)"
   ]
  },
  {
   "cell_type": "code",
   "execution_count": 72,
   "metadata": {},
   "outputs": [
    {
     "name": "stdout",
     "output_type": "stream",
     "text": [
      "[2, 3, 5, 'new_text', 'abs', [10, 100, 1000], 'b', 's', 156, 10]\n",
      "9\n",
      "10\n",
      "5\n",
      "[10, 100, 1000]\n"
     ]
    }
   ],
   "source": [
    "print (my_list)\n",
    "index_10 = my_list.index(10) \n",
    "print (index_10 )\n",
    "print (my_list[index_10] )\n",
    "# my_list.index(15419)  # Errorm not found\n",
    "index_10 = my_list.index([10, 100, 1000]) \n",
    "print (index_10 )\n",
    "print (my_list[index_10] )"
   ]
  },
  {
   "cell_type": "code",
   "execution_count": 73,
   "metadata": {},
   "outputs": [],
   "source": [
    "# my_list.clear() # deletes everything"
   ]
  },
  {
   "cell_type": "code",
   "execution_count": 74,
   "metadata": {},
   "outputs": [
    {
     "name": "stdout",
     "output_type": "stream",
     "text": [
      "[2, 3, 5, 'new_text', 'abs', [10, 100, 1000], 'b', 's', 156, 10, 5, 5, 5, 5, 5]\n"
     ]
    },
    {
     "data": {
      "text/plain": [
       "6"
      ]
     },
     "execution_count": 74,
     "metadata": {},
     "output_type": "execute_result"
    }
   ],
   "source": [
    "my_list.extend([5,5,5,5,5])\n",
    "print (my_list)\n",
    "my_list.count(5)"
   ]
  },
  {
   "cell_type": "code",
   "execution_count": 75,
   "metadata": {},
   "outputs": [
    {
     "data": {
      "text/plain": [
       "[5, 5, 5, 5, 5, 10, 156, 's', 'b', [10, 100, 1000], 'abs', 'new_text', 5, 3, 2]"
      ]
     },
     "execution_count": 75,
     "metadata": {},
     "output_type": "execute_result"
    }
   ],
   "source": [
    "my_list.reverse()\n",
    "my_list"
   ]
  },
  {
   "cell_type": "markdown",
   "metadata": {},
   "source": [
    "# Mutable vs immutable"
   ]
  },
  {
   "cell_type": "code",
   "execution_count": 78,
   "metadata": {},
   "outputs": [
    {
     "name": "stdout",
     "output_type": "stream",
     "text": [
      "1\n",
      "2\n",
      "140712287108160\n",
      "140712287108192\n"
     ]
    }
   ],
   "source": [
    "# immutable\n",
    "a = 1\n",
    "b = a\n",
    "b += 1\n",
    "print(a)\n",
    "print(b)\n",
    "print( id(a) )\n",
    "print( id(b) )"
   ]
  },
  {
   "cell_type": "code",
   "execution_count": 87,
   "metadata": {},
   "outputs": [
    {
     "name": "stdout",
     "output_type": "stream",
     "text": [
      "[1, 2, 3, 100, 100, 100]\n",
      "[1, 2, 3, 100, 100, 100]\n",
      "2115254245832\n",
      "2115254245832\n"
     ]
    }
   ],
   "source": [
    "# mutable\n",
    "list_1 = [1,2,3]\n",
    "list_2 = list_1\n",
    "list_2.append(100)\n",
    "list_2.append(100)\n",
    "list_2.append(100)\n",
    "print(list_1)\n",
    "print(list_2)\n",
    "print( id(list_1) )\n",
    "print( id(list_2) )"
   ]
  },
  {
   "cell_type": "code",
   "execution_count": 92,
   "metadata": {},
   "outputs": [
    {
     "name": "stdout",
     "output_type": "stream",
     "text": [
      "[1, 2, [1, 0, 100, 100, 100, 'inside']]\n",
      "[1, 2, [1, 0, 100, 100, 100, 'inside'], 100]\n",
      "2113594025992\n",
      "2115254245640\n",
      "2113594060680\n",
      "2113594060680\n"
     ]
    }
   ],
   "source": [
    "# Fixing mutability (Solution 1). \n",
    "# list_1 = [1,2,3]\n",
    "list_1 = [1,2,[1,0,100] ]\n",
    "list_2 = list_1.copy()\n",
    "list_2.append(100)\n",
    "list_2[2].append(100)\n",
    "list_2[2].append(100)\n",
    "list_2[2].append('inside')\n",
    "print(list_1)\n",
    "print(list_2)\n",
    "print( id(list_1) )\n",
    "print( id(list_2) )\n",
    "print( id(list_1[2]) )\n",
    "print( id(list_2[2]) )"
   ]
  },
  {
   "cell_type": "code",
   "execution_count": 94,
   "metadata": {},
   "outputs": [
    {
     "name": "stdout",
     "output_type": "stream",
     "text": [
      "[1, 2, [1, 0, 100]]\n",
      "[1, 2, [1, 0, 100, 100, 'inside'], 100]\n",
      "2113594162120\n",
      "2115254245832\n",
      "2113594024392\n",
      "2113594024712\n"
     ]
    }
   ],
   "source": [
    "# Fixing mutability (Solution 2)\n",
    "import copy\n",
    "list_1 = [1,2,[1,0,100] ]\n",
    "list_2 = copy.deepcopy(list_1) \n",
    "list_2.append(100)\n",
    "list_2[2].append(100)\n",
    "list_2[2].append('inside')\n",
    "print(list_1)\n",
    "print(list_2)\n",
    "print( id(list_1) )\n",
    "print( id(list_2) )\n",
    "print( id(list_1[2]) )\n",
    "print( id(list_2[2]) )"
   ]
  },
  {
   "cell_type": "code",
   "execution_count": 97,
   "metadata": {},
   "outputs": [
    {
     "name": "stdout",
     "output_type": "stream",
     "text": [
      "[5, 5, 5, 5, 5, 10, 156, 's', 'b', [10, 100, 1000], 'abs', 'new_text', 5, 3, 2]\n",
      "True\n",
      "False\n"
     ]
    }
   ],
   "source": [
    "print (my_list)\n",
    "print('b' in my_list)\n",
    "print(153 in my_list)"
   ]
  },
  {
   "cell_type": "markdown",
   "metadata": {},
   "source": [
    "# Tuple"
   ]
  },
  {
   "cell_type": "code",
   "execution_count": 109,
   "metadata": {},
   "outputs": [
    {
     "name": "stdout",
     "output_type": "stream",
     "text": [
      "(1, 1, 'a')\n",
      "ab\n",
      "lenght of the tuple: 5\n",
      "count of 1 in tuple: 2\n",
      "count of 'c' in tuple: 0\n",
      "check if 'b' is in tuple: True\n",
      "check 'b' index in tuple: 3\n"
     ]
    }
   ],
   "source": [
    "my_tuple = (1, 1, 'a', 'b', 'ab' )\n",
    "print (my_tuple[:3] )\n",
    "print (my_tuple[4])\n",
    "print (f'lenght of the tuple: {len (my_tuple)}' )\n",
    "print (f'count of 1 in tuple: {my_tuple.count(1)}' )\n",
    "print (f\"count of 'c' in tuple: {my_tuple.count('c')}\" )\n",
    "print (f\"check if 'b' is in tuple: { 'b' in my_tuple}\" )\n",
    "print (f\"check 'b' index in tuple: { my_tuple.index('b')}\" )\n",
    "\n",
    "# my_tuple[2] = 'c' # Error, can't do that"
   ]
  },
  {
   "cell_type": "code",
   "execution_count": 116,
   "metadata": {},
   "outputs": [
    {
     "name": "stdout",
     "output_type": "stream",
     "text": [
      "(1, 2, 3, 4, 5, 3)\n"
     ]
    }
   ],
   "source": [
    "tuple_1 = (1,2,3)\n",
    "tuple_2 = (4,5,3)\n",
    "tuple_3 = tuple_1 + tuple_2\n",
    "print(tuple_3)"
   ]
  },
  {
   "cell_type": "code",
   "execution_count": 118,
   "metadata": {},
   "outputs": [
    {
     "name": "stdout",
     "output_type": "stream",
     "text": [
      "[1, 2, 3, 4, 5, 3]\n",
      "(1, 2, 3, 10, 5, 3)\n"
     ]
    }
   ],
   "source": [
    "tuple_1 = (1,2,3)\n",
    "tuple_2 = (4,5,3)\n",
    "tuple_3 = tuple_1 + tuple_2\n",
    "tmp_list = list(tuple_3)\n",
    "print (tmp_list)\n",
    "tmp_list[3] = 10\n",
    "tuple_3 = tuple(tmp_list)\n",
    "print (tuple_3)"
   ]
  },
  {
   "cell_type": "code",
   "execution_count": 124,
   "metadata": {},
   "outputs": [
    {
     "name": "stdout",
     "output_type": "stream",
     "text": [
      "8\n",
      "8\n"
     ]
    }
   ],
   "source": [
    "my_tuple_2 = (1, 2, ['3', 4, 5], [6, [7, (8)]])\n",
    "print (my_tuple_2[3][1][1] )\n",
    "print (my_tuple_2[-1][-1][-1] )"
   ]
  },
  {
   "cell_type": "code",
   "execution_count": 125,
   "metadata": {},
   "outputs": [
    {
     "name": "stdout",
     "output_type": "stream",
     "text": [
      "(11, [222, 33], 44, 55)\n",
      "[222, 33]\n",
      "(11, [222, 22], 44, 55)\n"
     ]
    }
   ],
   "source": [
    "tuple1 = (11, [222, 33], 44, 55)\n",
    "print (tuple1)\n",
    "tmp_list = list(tuple1)\n",
    "print (tmp_list[1])\n",
    "tmp_list[1][1] = 22\n",
    "tuple1 = tuple(tuple1)\n",
    "print (tuple1)"
   ]
  },
  {
   "cell_type": "code",
   "execution_count": 126,
   "metadata": {},
   "outputs": [
    {
     "name": "stdout",
     "output_type": "stream",
     "text": [
      "(11, [222, 33], 44, 55)\n",
      "(11, [222, 22], 44, 55)\n"
     ]
    }
   ],
   "source": [
    "tuple1 = (11, [222, 33], 44, 55)\n",
    "print (tuple1)\n",
    "tuple1[1][1] = 22\n",
    "print (tuple1)"
   ]
  },
  {
   "cell_type": "markdown",
   "metadata": {},
   "source": [
    "# Range"
   ]
  },
  {
   "cell_type": "code",
   "execution_count": 134,
   "metadata": {},
   "outputs": [
    {
     "name": "stdout",
     "output_type": "stream",
     "text": [
      "[0, 1, 2, 3, 4, 5, 6, 7, 8, 9]\n",
      "[5, 6, 7, 8, 9]\n",
      "[5, 7, 9, 11, 13, 15, 17, 19, 21, 23]\n",
      "[50, 45, 40, 35, 30]\n"
     ]
    }
   ],
   "source": [
    "print (list(range(10) ) )\n",
    "print (list(range(5, 10) ) )\n",
    "print (list(range(5, 25, 2) ) )\n",
    "# print (list(range(5, 25, 2) ) )\n",
    "print (list(range(50, 25, -5) ) )"
   ]
  },
  {
   "cell_type": "code",
   "execution_count": 139,
   "metadata": {},
   "outputs": [
    {
     "name": "stdout",
     "output_type": "stream",
     "text": [
      "<class 'range'>\n",
      "<class 'list'>\n",
      "<class 'tuple'>\n",
      "<class 'tuple'>\n"
     ]
    }
   ],
   "source": [
    "print (type( range(10) ) )\n",
    "print (type( [1,5,3] ) )\n",
    "print (type( (1,5,3) ) )\n",
    "print (type( my_tuple ) )"
   ]
  },
  {
   "cell_type": "markdown",
   "metadata": {},
   "source": [
    "# For loop"
   ]
  },
  {
   "cell_type": "code",
   "execution_count": 141,
   "metadata": {},
   "outputs": [
    {
     "name": "stdout",
     "output_type": "stream",
     "text": [
      "City is called Vilnius\n",
      "City is called Kaunas\n",
      "City is called London\n",
      "went through all cities\n"
     ]
    }
   ],
   "source": [
    "cities = ['Vilnius', 'Kaunas', 'London']\n",
    "for city in cities:\n",
    "    print (f'City is called {city}')\n",
    "print (\"went through all cities\")"
   ]
  },
  {
   "cell_type": "code",
   "execution_count": 143,
   "metadata": {},
   "outputs": [
    {
     "name": "stdout",
     "output_type": "stream",
     "text": [
      "index is 5\n",
      "index is 10\n",
      "index is 15\n",
      "index is 20\n",
      "index is 25\n",
      "index is 30\n",
      "index is 35\n",
      "index is 40\n",
      "index is 45\n"
     ]
    }
   ],
   "source": [
    "for i in range(5,50,5):\n",
    "    print (f'index is {i}')"
   ]
  },
  {
   "cell_type": "code",
   "execution_count": 152,
   "metadata": {},
   "outputs": [
    {
     "name": "stdout",
     "output_type": "stream",
     "text": [
      "Monday\n",
      "10\n",
      "11\n",
      "12\n",
      "13\n",
      "14\n",
      "15\n",
      "16\n",
      "17\n",
      "18\n",
      "19\n",
      "Checking next day\n",
      "Tuesday\n",
      "10\n",
      "11\n",
      "12\n",
      "13\n",
      "14\n",
      "15\n",
      "16\n",
      "17\n",
      "18\n",
      "19\n",
      "Checking next day\n",
      "Wednesday\n",
      "10\n",
      "11\n",
      "12\n",
      "13\n",
      "14\n",
      "15\n",
      "16\n",
      "17\n",
      "18\n",
      "19\n",
      "Checking next day\n",
      "Thursday\n",
      "10\n",
      "11\n",
      "12\n",
      "13\n",
      "14\n",
      "15\n",
      "16\n",
      "17\n",
      "18\n",
      "19\n",
      "Checking next day\n",
      "Friday\n",
      "10\n",
      "11\n",
      "12\n",
      "13\n",
      "14\n",
      "15\n",
      "16\n",
      "17\n",
      "18\n",
      "19\n",
      "Checking next day\n",
      "Saturday\n",
      "10\n",
      "11\n",
      "12\n",
      "13\n",
      "14\n",
      "15\n",
      "16\n",
      "17\n",
      "18\n",
      "19\n",
      "Checking next day\n",
      "Sunday\n",
      "10\n",
      "11\n",
      "12\n",
      "13\n",
      "14\n",
      "15\n",
      "16\n",
      "17\n",
      "18\n",
      "19\n",
      "Checking next day\n",
      "[('Monday', 10), ('Monday', 11), ('Monday', 12), ('Monday', 13), ('Monday', 14), ('Monday', 15), ('Monday', 16), ('Monday', 17), ('Monday', 18), ('Monday', 19), ('Tuesday', 10), ('Tuesday', 11), ('Tuesday', 12), ('Tuesday', 13), ('Tuesday', 14), ('Tuesday', 15), ('Tuesday', 16), ('Tuesday', 17), ('Tuesday', 18), ('Tuesday', 19), ('Wednesday', 10), ('Wednesday', 11), ('Wednesday', 12), ('Wednesday', 13), ('Wednesday', 14), ('Wednesday', 15), ('Wednesday', 16), ('Wednesday', 17), ('Wednesday', 18), ('Wednesday', 19), ('Thursday', 10), ('Thursday', 11), ('Thursday', 12), ('Thursday', 13), ('Thursday', 14), ('Thursday', 15), ('Thursday', 16), ('Thursday', 17), ('Thursday', 18), ('Thursday', 19), ('Friday', 10), ('Friday', 11), ('Friday', 12), ('Friday', 13), ('Friday', 14), ('Friday', 15), ('Friday', 16), ('Friday', 17), ('Friday', 18), ('Friday', 19), ('Saturday', 10), ('Saturday', 11), ('Saturday', 12), ('Saturday', 13), ('Saturday', 14), ('Saturday', 15), ('Saturday', 16), ('Saturday', 17), ('Saturday', 18), ('Saturday', 19), ('Sunday', 10), ('Sunday', 11), ('Sunday', 12), ('Sunday', 13), ('Sunday', 14), ('Sunday', 15), ('Sunday', 16), ('Sunday', 17), ('Sunday', 18), ('Sunday', 19)]\n"
     ]
    }
   ],
   "source": [
    "days = ('Monday', 'Tuesday', 'Wednesday', 'Thursday', 'Friday', 'Saturday' , 'Sunday')\n",
    "hours = [10, 11, 12, 13, 14, 15, 16, 17, 18, 19]\n",
    "\n",
    "combinations = []\n",
    "for day in days:\n",
    "    print(day)\n",
    "    for hour in hours:\n",
    "        print (hour)\n",
    "        combination = (day,hour)\n",
    "        combinations.append( combination )\n",
    "    print ('Checking next day')\n",
    "\n",
    "print (combinations)"
   ]
  },
  {
   "cell_type": "code",
   "execution_count": 153,
   "metadata": {},
   "outputs": [],
   "source": [
    "text = input(\"enter something\")"
   ]
  },
  {
   "cell_type": "code",
   "execution_count": 154,
   "metadata": {},
   "outputs": [
    {
     "name": "stdout",
     "output_type": "stream",
     "text": [
      "My name Darius\n"
     ]
    }
   ],
   "source": [
    "print (text)"
   ]
  },
  {
   "cell_type": "code",
   "execution_count": 155,
   "metadata": {},
   "outputs": [],
   "source": [
    "number = input(\"enter a number\")"
   ]
  },
  {
   "cell_type": "code",
   "execution_count": 157,
   "metadata": {},
   "outputs": [
    {
     "name": "stdout",
     "output_type": "stream",
     "text": [
      "5\n",
      "<class 'str'>\n",
      "<class 'int'>\n"
     ]
    }
   ],
   "source": [
    "print (number)\n",
    "print (type(number) )\n",
    "print (type( int( number) ) )\n",
    "\n"
   ]
  }
 ],
 "metadata": {
  "interpreter": {
   "hash": "8c46c6c26e2733b62f4307cda0d230a15e363bc8de6d84ecceb81eda1bb129bc"
  },
  "kernelspec": {
   "display_name": "Python 3.7.9 64-bit",
   "language": "python",
   "name": "python3"
  },
  "language_info": {
   "codemirror_mode": {
    "name": "ipython",
    "version": 3
   },
   "file_extension": ".py",
   "mimetype": "text/x-python",
   "name": "python",
   "nbconvert_exporter": "python",
   "pygments_lexer": "ipython3",
   "version": "3.7.9"
  },
  "orig_nbformat": 4
 },
 "nbformat": 4,
 "nbformat_minor": 2
}
