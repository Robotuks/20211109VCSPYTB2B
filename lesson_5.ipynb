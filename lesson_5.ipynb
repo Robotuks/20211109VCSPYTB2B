{
 "cells": [
  {
   "cell_type": "code",
   "execution_count": null,
   "metadata": {},
   "outputs": [],
   "source": [
    "text = input(\"Please enter a digit\")\n",
    "lst1 = list(range(int(text)))\n",
    "for num1 in lst1:\n",
    "    if int(text) >= 10 and num1 % 5 != 0:\n",
    "        print(f'number is {num1}')\n",
    "    elif num1 < 9:\n",
    "        print('Number is less then 10')"
   ]
  },
  {
   "cell_type": "code",
   "execution_count": 7,
   "metadata": {},
   "outputs": [
    {
     "name": "stdout",
     "output_type": "stream",
     "text": [
      "3\n",
      "[1, 3, 5, 9]\n"
     ]
    }
   ],
   "source": [
    "my_list = [ 1, 3, 5 ]\n",
    "print (len(my_list))\n",
    "my_list.append(9)\n",
    "print(my_list)"
   ]
  },
  {
   "cell_type": "code",
   "execution_count": 8,
   "metadata": {},
   "outputs": [
    {
     "data": {
      "text/plain": [
       "False"
      ]
     },
     "execution_count": 8,
     "metadata": {},
     "output_type": "execute_result"
    }
   ],
   "source": [
    "8 in my_list "
   ]
  },
  {
   "cell_type": "code",
   "execution_count": 9,
   "metadata": {},
   "outputs": [
    {
     "data": {
      "text/plain": [
       "False"
      ]
     },
     "execution_count": 9,
     "metadata": {},
     "output_type": "execute_result"
    }
   ],
   "source": [
    "'3' in my_list "
   ]
  },
  {
   "cell_type": "code",
   "execution_count": 17,
   "metadata": {},
   "outputs": [
    {
     "name": "stdout",
     "output_type": "stream",
     "text": [
      "[1, 2, 3, 7, 6, 5, 5, 5, 5, 5]\n",
      "[1, 2, 3, 7, 6, 5, 5, 5, 5]\n",
      "[7, 6, 5, 5, 5, 5, 3, 2, 1]\n",
      "number 7 repeats 1 times\n",
      "number 6 repeats 1 times\n",
      "number 5 repeats 4 times\n",
      "number 5 repeats 4 times\n",
      "number 5 repeats 4 times\n",
      "number 5 repeats 4 times\n",
      "number 3 repeats 1 times\n",
      "number 2 repeats 1 times\n",
      "number 1 repeats 1 times\n"
     ]
    }
   ],
   "source": [
    "# new_list = [1,2,3] + ['1','2','3' ]\n",
    "new_list = [1,2,3] + [7,6,5,5,5,5,5 ]\n",
    "print (new_list)\n",
    "new_list.pop()\n",
    "print (new_list)\n",
    "new_list.sort(reverse=True)\n",
    "print (new_list)\n",
    "for number in new_list:\n",
    "    print(f'number {number} repeats {new_list.count(number)} times')"
   ]
  },
  {
   "cell_type": "code",
   "execution_count": 31,
   "metadata": {},
   "outputs": [
    {
     "name": "stdout",
     "output_type": "stream",
     "text": [
      "(1, 2, 3, 11, 5, 6, 8)\n",
      "[1, 2, 3]\n",
      "[1, 2]\n",
      "number 1 repeats 1 times\n",
      "number 2 repeats 1 times\n",
      "number 3 repeats 1 times\n",
      "number 11 repeats 1 times\n",
      "number 5 repeats 1 times\n",
      "number 6 repeats 1 times\n",
      "number 8 repeats 1 times\n",
      "max value in tuple 11\n",
      "[11, 8, 6, 5, 3, 2, 1]\n",
      "max value in tuple 11\n"
     ]
    }
   ],
   "source": [
    "tuple1 = (1,2,3)\n",
    "tuple2 = (11,5,6,8)\n",
    "new_tuple = tuple1 + tuple2\n",
    "print (new_tuple)\n",
    "list_1 = list(tuple1)\n",
    "print (list_1)\n",
    "list_1.pop()\n",
    "print (list_1)\n",
    "for number in new_tuple:\n",
    "    print(f'number {number} repeats {new_tuple.count(number)} times')\n",
    "print (f'max value in tuple {max(new_tuple) }')\n",
    "tmp_list = list (new_tuple)\n",
    "tmp_list.sort(reverse=True)\n",
    "print (tmp_list)\n",
    "print (f'max value in tuple {tmp_list[0] }')"
   ]
  },
  {
   "cell_type": "code",
   "execution_count": 32,
   "metadata": {},
   "outputs": [
    {
     "name": "stdout",
     "output_type": "stream",
     "text": [
      "1\n",
      "2\n",
      "3\n",
      "4\n",
      "5\n",
      "6\n",
      "7\n",
      "8\n",
      "9\n",
      "10\n"
     ]
    }
   ],
   "source": [
    "for number in range(1,11):\n",
    "    print (number)"
   ]
  },
  {
   "cell_type": "code",
   "execution_count": 34,
   "metadata": {},
   "outputs": [
    {
     "name": "stdout",
     "output_type": "stream",
     "text": [
      "1\n",
      "3\n",
      "6\n",
      "10\n",
      "15\n",
      "21\n",
      "28\n",
      "36\n",
      "45\n",
      "55\n",
      "66\n",
      "78\n",
      "91\n",
      "105\n",
      "120\n",
      "136\n",
      "153\n",
      "171\n",
      "190\n",
      "210\n",
      "231\n",
      "253\n",
      "276\n",
      "300\n",
      "325\n",
      "351\n",
      "378\n",
      "406\n",
      "435\n",
      "465\n",
      "496\n",
      "528\n",
      "561\n",
      "595\n",
      "630\n",
      "666\n",
      "703\n",
      "741\n",
      "780\n",
      "820\n",
      "861\n",
      "903\n",
      "946\n",
      "990\n",
      "1035\n",
      "1081\n",
      "1128\n",
      "1176\n",
      "1225\n",
      "1275\n",
      "1275\n"
     ]
    }
   ],
   "source": [
    "my_sum = 0\n",
    "for number in range(1,51):\n",
    "    my_sum += number\n",
    "    # print( my_sum)\n",
    "print (my_sum)"
   ]
  },
  {
   "cell_type": "code",
   "execution_count": 37,
   "metadata": {},
   "outputs": [
    {
     "name": "stdout",
     "output_type": "stream",
     "text": [
      "number 42 multiplied by 1 is equal to 42\n",
      "number 42 multiplied by 2 is equal to 84\n",
      "number 42 multiplied by 3 is equal to 126\n",
      "number 42 multiplied by 4 is equal to 168\n",
      "number 42 multiplied by 5 is equal to 210\n",
      "number 42 multiplied by 6 is equal to 252\n",
      "number 42 multiplied by 7 is equal to 294\n",
      "number 42 multiplied by 8 is equal to 336\n",
      "number 42 multiplied by 9 is equal to 378\n",
      "number 42 multiplied by 10 is equal to 420\n"
     ]
    }
   ],
   "source": [
    "user_input = input('Enter a number:')\n",
    "user_number = int(user_input)\n",
    "for i in range(1,11):\n",
    "    print (f'number {user_number} multiplied by {i} is equal to {user_number * i}')"
   ]
  },
  {
   "cell_type": "markdown",
   "metadata": {},
   "source": [
    "# If statement"
   ]
  },
  {
   "cell_type": "code",
   "execution_count": 41,
   "metadata": {},
   "outputs": [
    {
     "name": "stdout",
     "output_type": "stream",
     "text": [
      "That is true\n",
      "end of script\n"
     ]
    }
   ],
   "source": [
    "if 5 > 1:\n",
    "    print ('That is true')\n",
    "\n",
    "print ('end of script')"
   ]
  },
  {
   "cell_type": "code",
   "execution_count": 46,
   "metadata": {},
   "outputs": [
    {
     "name": "stdout",
     "output_type": "stream",
     "text": [
      "number is less or equal 10\n",
      "end of script\n"
     ]
    }
   ],
   "source": [
    "number = 5\n",
    "if number > 10:\n",
    "    print ('number is more than ten')\n",
    "else:\n",
    "    print ('number is less or equal 10')\n",
    "\n",
    "print ('end of script')"
   ]
  },
  {
   "cell_type": "code",
   "execution_count": 56,
   "metadata": {},
   "outputs": [
    {
     "name": "stdout",
     "output_type": "stream",
     "text": [
      "Hi unknown person\n",
      "end of script\n"
     ]
    }
   ],
   "source": [
    "name = 'Tomas'\n",
    "year = 200\n",
    "\n",
    "if name == 'Linas':\n",
    "    print ('Hi Linas')\n",
    "elif year > 2000:\n",
    "    print ('year is greater than 2000')\n",
    "elif name == 'Darius' and year > 2000:\n",
    "    print ('Hi Darius') # will never execute this\n",
    "else:\n",
    "    print ('Hi unknown person')\n",
    "print ('end of script')"
   ]
  },
  {
   "cell_type": "code",
   "execution_count": 53,
   "metadata": {},
   "outputs": [
    {
     "name": "stdout",
     "output_type": "stream",
     "text": [
      "year is greater than 2000\n",
      "Hi Darius\n",
      "end of script\n"
     ]
    }
   ],
   "source": [
    "name = 'Darius'\n",
    "year = 2005\n",
    "if name == 'Linas':\n",
    "    print ('Hi Linas')\n",
    "elif year > 2000:\n",
    "    print ('year is greater than 2000')\n",
    "    if name == 'Darius':\n",
    "        print ('Hi Darius') # will be executed if name is Darius \n",
    "else:\n",
    "    print ('Hi unknown person')\n",
    "print ('end of script')"
   ]
  },
  {
   "cell_type": "code",
   "execution_count": 54,
   "metadata": {},
   "outputs": [
    {
     "name": "stdout",
     "output_type": "stream",
     "text": [
      "year is greater than 2000\n",
      "Hi Darius\n",
      "end of script\n"
     ]
    }
   ],
   "source": [
    "name = 'Darius'\n",
    "year = 2005\n",
    "\n",
    "if name == 'Linas':\n",
    "    print ('Hi Linas')\n",
    "if year > 2000:\n",
    "    print ('year is greater than 2000')\n",
    "if name == 'Darius' and year > 2000:\n",
    "    print ('Hi Darius') # will never execute this\n",
    "# else:\n",
    "#     print ('Hi unknown person')\n",
    "print ('end of script')"
   ]
  },
  {
   "cell_type": "code",
   "execution_count": 61,
   "metadata": {},
   "outputs": [
    {
     "name": "stdout",
     "output_type": "stream",
     "text": [
      "[110, 114, 118, 122, 126, 130, 134, 138, 142, 146, 150, 154, 158, 162, 166, 170, 174, 178, 182, 186, 190, 194, 198, 202, 206, 210]\n",
      "110\n",
      "138\n",
      "166\n",
      "194\n"
     ]
    }
   ],
   "source": [
    "my_list = list(range(110,213,4))\n",
    "print (my_list)\n",
    "\n",
    "for idx in range(0,len(my_list)):\n",
    "    if idx % 7 == 0:\n",
    "        print (my_list[idx])"
   ]
  },
  {
   "cell_type": "code",
   "execution_count": 62,
   "metadata": {},
   "outputs": [
    {
     "name": "stdout",
     "output_type": "stream",
     "text": [
      "2\n",
      "6\n",
      "12\n",
      "20\n",
      "30\n",
      "42\n",
      "56\n",
      "72\n",
      "90\n",
      "110\n",
      "132\n",
      "156\n",
      "182\n",
      "210\n",
      "240\n",
      "272\n",
      "306\n",
      "342\n",
      "380\n",
      "420\n",
      "462\n",
      "506\n",
      "552\n",
      "600\n",
      "650\n"
     ]
    }
   ],
   "source": [
    "my_sum = 0\n",
    "\n",
    "for number in range(1,51):\n",
    "    if (my_sum + number) % 2 == 0:\n",
    "        my_sum += number\n",
    "        print (my_sum)"
   ]
  },
  {
   "cell_type": "code",
   "execution_count": 64,
   "metadata": {},
   "outputs": [
    {
     "name": "stdout",
     "output_type": "stream",
     "text": [
      "Monday\n",
      "12\n",
      "13\n",
      "14\n",
      "15\n",
      "16\n",
      "17\n",
      "Checking next day\n",
      "Wednesday\n",
      "12\n",
      "13\n",
      "14\n",
      "15\n",
      "16\n",
      "17\n",
      "Checking next day\n",
      "[('Monday', 12), ('Monday', 13), ('Monday', 14), ('Monday', 15), ('Monday', 16), ('Monday', 17), ('Wednesday', 12), ('Wednesday', 13), ('Wednesday', 14), ('Wednesday', 15), ('Wednesday', 16), ('Wednesday', 17)]\n"
     ]
    }
   ],
   "source": [
    "days = ('Monday', 'Tuesday', 'Wednesday', 'Thursday', 'Friday', 'Saturday' , 'Sunday')\n",
    "hours = [10, 11, 12, 13, 14, 15, 16, 17, 18, 19]\n",
    "\n",
    "available_days = [ 'Monday', 'Wednesday']\n",
    "available_hours = [12, 13, 14, 15, 16, 17]\n",
    "\n",
    "combinations = []\n",
    "for day in days:\n",
    "    if day in available_days:\n",
    "        print(day)\n",
    "        for hour in hours:\n",
    "            if hour in available_hours:\n",
    "                print (hour)\n",
    "                combination = (day,hour)\n",
    "                combinations.append( combination )\n",
    "        print ('Checking next day')\n",
    "\n",
    "print (combinations)"
   ]
  },
  {
   "cell_type": "code",
   "execution_count": 69,
   "metadata": {},
   "outputs": [
    {
     "name": "stdout",
     "output_type": "stream",
     "text": [
      "['some text', 'new text']\n"
     ]
    }
   ],
   "source": [
    "my_list = []\n",
    "my_list.append( \"some text\" )\n",
    "my_list.append( \"new text\" )\n",
    "print (my_list)"
   ]
  },
  {
   "cell_type": "markdown",
   "metadata": {},
   "source": [
    "# List comprehension"
   ]
  },
  {
   "cell_type": "code",
   "execution_count": 72,
   "metadata": {},
   "outputs": [
    {
     "name": "stdout",
     "output_type": "stream",
     "text": [
      "[10, 8, 148, 16]\n"
     ]
    }
   ],
   "source": [
    "my_list = [5,4,74,8]\n",
    "\n",
    "mult_2 = [number*2  for number in my_list ]\n",
    "print(mult_2)"
   ]
  },
  {
   "cell_type": "code",
   "execution_count": 85,
   "metadata": {},
   "outputs": [
    {
     "name": "stdout",
     "output_type": "stream",
     "text": [
      "[4, 74]\n"
     ]
    }
   ],
   "source": [
    "my_list = [5,4,74,7]\n",
    "# [RESULT for STH in ITERABLE]\n",
    "mult_2 = [number for number in my_list if number % 2 == 0 ]\n",
    "# mult_2 = [(number, number * 2) for number in my_list if number % 2 == 0 ]\n",
    "print(mult_2)"
   ]
  },
  {
   "cell_type": "code",
   "execution_count": 86,
   "metadata": {},
   "outputs": [
    {
     "name": "stdout",
     "output_type": "stream",
     "text": [
      "[4, 74]\n"
     ]
    }
   ],
   "source": [
    "my_list = [5,4,74,7]\n",
    "# [RESULT for STH in ITERABLE]\n",
    "even = []\n",
    "for number in my_list:\n",
    "    if number % 2 == 0:\n",
    "        even.append(number)\n",
    "        # even.append((number, number * 2))\n",
    "print (even)"
   ]
  },
  {
   "cell_type": "code",
   "execution_count": 77,
   "metadata": {},
   "outputs": [
    {
     "name": "stdout",
     "output_type": "stream",
     "text": [
      "[('Monday', 12), ('Monday', 13), ('Monday', 14), ('Monday', 15), ('Monday', 16), ('Monday', 17), ('Wednesday', 12), ('Wednesday', 13), ('Wednesday', 14), ('Wednesday', 15), ('Wednesday', 16), ('Wednesday', 17)]\n"
     ]
    }
   ],
   "source": [
    "days = ('Monday', 'Tuesday', 'Wednesday', 'Thursday', 'Friday', 'Saturday' , 'Sunday')\n",
    "hours = [10, 11, 12, 13, 14, 15, 16, 17, 18, 19]\n",
    "\n",
    "valid_days = [ 'Monday', 'Wednesday']\n",
    "valid_hours = [12, 13, 14, 15, 16, 17]\n",
    "\n",
    "combinations = [ (day, hour) for day in days for hour in hours if day in valid_days and hour in valid_hours ]\n",
    "print(combinations)"
   ]
  },
  {
   "cell_type": "code",
   "execution_count": 78,
   "metadata": {},
   "outputs": [
    {
     "name": "stdout",
     "output_type": "stream",
     "text": [
      "[15, 8, 148, 21]\n"
     ]
    }
   ],
   "source": [
    "my_list = [5,4,74,7]\n",
    "# [RESULT for STH in ITERABLE]\n",
    "mult = [number*2 if number % 2 == 0 else number*3 for number in my_list ]\n",
    "print(mult)"
   ]
  },
  {
   "cell_type": "code",
   "execution_count": 91,
   "metadata": {},
   "outputs": [
    {
     "name": "stdout",
     "output_type": "stream",
     "text": [
      "[1, 1, 1, 1, 1, 1]\n",
      "6\n"
     ]
    }
   ],
   "source": [
    "my_list = [5,4,74,7, 4598, 4163 ,4984 ,784 ,345 ,46968, 36999]\n",
    "even =  [1 for number in my_list if number % 2 == 0 ]\n",
    "print(even)\n",
    "count_even = sum(even)\n",
    "print(count_even)"
   ]
  },
  {
   "cell_type": "markdown",
   "metadata": {},
   "source": [
    "# Dictionary"
   ]
  },
  {
   "cell_type": "code",
   "execution_count": 100,
   "metadata": {},
   "outputs": [],
   "source": [
    "my_dictionary = {\n",
    "    'name': 'Darius',\n",
    "    'year': 2008,\n",
    "    False: 'false',\n",
    "    5: 'five',\n",
    "    'hobbies': ['tennis', 'football']\n",
    "}"
   ]
  },
  {
   "cell_type": "code",
   "execution_count": 101,
   "metadata": {},
   "outputs": [
    {
     "data": {
      "text/plain": [
       "['tennis', 'football']"
      ]
     },
     "execution_count": 101,
     "metadata": {},
     "output_type": "execute_result"
    }
   ],
   "source": [
    "my_dictionary['hobbies']"
   ]
  },
  {
   "cell_type": "code",
   "execution_count": 102,
   "metadata": {},
   "outputs": [
    {
     "name": "stdout",
     "output_type": "stream",
     "text": [
      "five\n"
     ]
    }
   ],
   "source": [
    "print (my_dictionary[5] )"
   ]
  },
  {
   "cell_type": "code",
   "execution_count": 103,
   "metadata": {},
   "outputs": [
    {
     "name": "stdout",
     "output_type": "stream",
     "text": [
      "{'name': 'Darius', 'year': 2008, False: 'false', 5: 'five', 'hobbies': ['tennis', 'football'], 'city': 'Vilnius'}\n",
      "{'name': 'Darius', 'year': 2008, False: 'false', 5: 'five', 'hobbies': ['tennis', 'football'], 'city': 'Kaunas'}\n"
     ]
    }
   ],
   "source": [
    "my_dictionary['city'] = 'Vilnius'\n",
    "print (my_dictionary)\n",
    "my_dictionary['city'] = 'Kaunas'\n",
    "print (my_dictionary)"
   ]
  },
  {
   "cell_type": "code",
   "execution_count": 104,
   "metadata": {},
   "outputs": [
    {
     "name": "stdout",
     "output_type": "stream",
     "text": [
      "6\n"
     ]
    }
   ],
   "source": [
    "print (len(my_dictionary))"
   ]
  },
  {
   "cell_type": "code",
   "execution_count": 99,
   "metadata": {},
   "outputs": [
    {
     "name": "stdout",
     "output_type": "stream",
     "text": [
      "{}\n",
      "<class 'dict'>\n"
     ]
    }
   ],
   "source": [
    "my_dictionary.clear() # deletes all pairs\n",
    "print (my_dictionary)\n",
    "print (type( my_dictionary) )"
   ]
  },
  {
   "cell_type": "code",
   "execution_count": null,
   "metadata": {},
   "outputs": [],
   "source": [
    "my_dictionary.copy() # mutable "
   ]
  },
  {
   "cell_type": "code",
   "execution_count": 105,
   "metadata": {},
   "outputs": [
    {
     "name": "stdout",
     "output_type": "stream",
     "text": [
      "{'sum': 0, 'mult_sum': 0, 'div_sum': 0}\n"
     ]
    }
   ],
   "source": [
    "tmp_dict = dict.fromkeys(['sum','mult_sum', 'div_sum'], 0)\n",
    "print (tmp_dict)"
   ]
  },
  {
   "cell_type": "code",
   "execution_count": 109,
   "metadata": {},
   "outputs": [
    {
     "name": "stdout",
     "output_type": "stream",
     "text": [
      "Kaunas\n",
      "Kaunas\n"
     ]
    }
   ],
   "source": [
    "print (my_dictionary.get('city') )\n",
    "print (my_dictionary['city'] )"
   ]
  },
  {
   "cell_type": "code",
   "execution_count": 114,
   "metadata": {},
   "outputs": [
    {
     "name": "stdout",
     "output_type": "stream",
     "text": [
      "False\n",
      "Dictionary does not contain 'address' info\n"
     ]
    }
   ],
   "source": [
    "# my_dictionary['address'] # gives an error\n",
    "print (my_dictionary.get('address', False) )\n",
    "if my_dictionary.get('address', False) == False:\n",
    "    print (\"Dictionary does not contain 'address' info\")"
   ]
  },
  {
   "cell_type": "code",
   "execution_count": 116,
   "metadata": {},
   "outputs": [
    {
     "ename": "KeyError",
     "evalue": "False",
     "output_type": "error",
     "traceback": [
      "\u001b[1;31m---------------------------------------------------------------------------\u001b[0m",
      "\u001b[1;31mKeyError\u001b[0m                                  Traceback (most recent call last)",
      "\u001b[1;32m~\\AppData\\Local\\Temp/ipykernel_26832/103781894.py\u001b[0m in \u001b[0;36m<module>\u001b[1;34m\u001b[0m\n\u001b[1;32m----> 1\u001b[1;33m \u001b[0mprint\u001b[0m \u001b[1;33m(\u001b[0m\u001b[0mmy_dictionary\u001b[0m\u001b[1;33m.\u001b[0m\u001b[0mpop\u001b[0m\u001b[1;33m(\u001b[0m\u001b[1;32mFalse\u001b[0m\u001b[1;33m)\u001b[0m \u001b[1;33m)\u001b[0m\u001b[1;33m\u001b[0m\u001b[1;33m\u001b[0m\u001b[0m\n\u001b[0m",
      "\u001b[1;31mKeyError\u001b[0m: False"
     ]
    }
   ],
   "source": [
    "print (my_dictionary.pop(False) ) # gives an error on 2nd run"
   ]
  },
  {
   "cell_type": "code",
   "execution_count": null,
   "metadata": {},
   "outputs": [],
   "source": [
    "my_dictionary.popitem() # gives back pair tuple"
   ]
  },
  {
   "cell_type": "code",
   "execution_count": 119,
   "metadata": {},
   "outputs": [
    {
     "name": "stdout",
     "output_type": "stream",
     "text": [
      "Kaunas\n",
      "Palanga\n",
      "{'name': 'Darius', 'year': 2008, 5: 'five', 'hobbies': ['tennis', 'football'], 'city': 'Kaunas', 'City': 'Palanga'}\n"
     ]
    }
   ],
   "source": [
    "print (my_dictionary.setdefault('city', 'Palanga') )\n",
    "print (my_dictionary.setdefault('City', 'Palanga'))\n",
    "print (my_dictionary)"
   ]
  },
  {
   "cell_type": "code",
   "execution_count": 120,
   "metadata": {},
   "outputs": [
    {
     "name": "stdout",
     "output_type": "stream",
     "text": [
      "{'name': 'Darius', 'year': 2008, 5: 'five', 'hobbies': ['tennis', 'football'], 'city': 'Vilnius', 'City': 'Palanga', 'key': 'value of key', 'sum': 10}\n"
     ]
    }
   ],
   "source": [
    "new_dict = {\n",
    "    'key': 'value of key',\n",
    "    'sum': 10,\n",
    "    'city': 'Vilnius'\n",
    "}\n",
    "\n",
    "my_dictionary.update(new_dict)\n",
    "print (my_dictionary)"
   ]
  },
  {
   "cell_type": "code",
   "execution_count": 121,
   "metadata": {},
   "outputs": [
    {
     "name": "stdout",
     "output_type": "stream",
     "text": [
      "key name has a value of Darius\n",
      "key year has a value of 2008\n",
      "key 5 has a value of five\n",
      "key hobbies has a value of ['tennis', 'football']\n",
      "key city has a value of Vilnius\n",
      "key City has a value of Palanga\n",
      "key key has a value of value of key\n",
      "key sum has a value of 10\n"
     ]
    }
   ],
   "source": [
    "for key, value in my_dictionary.items(): # k, v\n",
    "    print (f'key {key} has a value of {value}')"
   ]
  }
 ],
 "metadata": {
  "interpreter": {
   "hash": "8c46c6c26e2733b62f4307cda0d230a15e363bc8de6d84ecceb81eda1bb129bc"
  },
  "kernelspec": {
   "display_name": "Python 3.7.9 64-bit",
   "language": "python",
   "name": "python3"
  },
  "language_info": {
   "codemirror_mode": {
    "name": "ipython",
    "version": 3
   },
   "file_extension": ".py",
   "mimetype": "text/x-python",
   "name": "python",
   "nbconvert_exporter": "python",
   "pygments_lexer": "ipython3",
   "version": "3.7.9"
  },
  "orig_nbformat": 4
 },
 "nbformat": 4,
 "nbformat_minor": 2
}
