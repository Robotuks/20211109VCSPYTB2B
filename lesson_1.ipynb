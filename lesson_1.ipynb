{
 "cells": [
  {
   "cell_type": "code",
   "execution_count": null,
   "metadata": {},
   "outputs": [],
   "source": []
  },
  {
   "cell_type": "code",
   "execution_count": 2,
   "metadata": {},
   "outputs": [
    {
     "name": "stdout",
     "output_type": "stream",
     "text": [
      "Darius\n"
     ]
    }
   ],
   "source": [
    "my_name = 'Darius'\n",
    "print ( my_name )"
   ]
  },
  {
   "cell_type": "code",
   "execution_count": 11,
   "metadata": {},
   "outputs": [
    {
     "ename": "SyntaxError",
     "evalue": "invalid syntax (Temp/ipykernel_24756/4096425460.py, line 1)",
     "output_type": "error",
     "traceback": [
      "\u001b[1;36m  File \u001b[1;32m\"C:\\Users\\Robotux\\AppData\\Local\\Temp/ipykernel_24756/4096425460.py\"\u001b[1;36m, line \u001b[1;32m1\u001b[0m\n\u001b[1;33m    1name = \"Tomas\"\u001b[0m\n\u001b[1;37m        ^\u001b[0m\n\u001b[1;31mSyntaxError\u001b[0m\u001b[1;31m:\u001b[0m invalid syntax\n"
     ]
    }
   ],
   "source": [
    "# Won't work, variable name can't start with a number\n",
    "1name = \"Tomas\""
   ]
  },
  {
   "cell_type": "code",
   "execution_count": 4,
   "metadata": {},
   "outputs": [],
   "source": [
    "# DON\"T OVERWRITE STANDARD FUNCTION NAMES\n",
    "# id(my_name) # comment shortcut: Ctrl + /\n",
    "# id  = 1\n",
    "# id(my_name)"
   ]
  },
  {
   "cell_type": "code",
   "execution_count": 5,
   "metadata": {},
   "outputs": [
    {
     "name": "stdout",
     "output_type": "stream",
     "text": [
      "Darius\n"
     ]
    }
   ],
   "source": [
    "myname = \"Darius\"\n",
    "print (myname)"
   ]
  },
  {
   "cell_type": "code",
   "execution_count": 6,
   "metadata": {},
   "outputs": [],
   "source": [
    "x = 5\n",
    "y = 13"
   ]
  },
  {
   "cell_type": "code",
   "execution_count": 7,
   "metadata": {},
   "outputs": [
    {
     "name": "stdout",
     "output_type": "stream",
     "text": [
      "18\n"
     ]
    }
   ],
   "source": [
    "print (x + y)"
   ]
  },
  {
   "cell_type": "code",
   "execution_count": 9,
   "metadata": {},
   "outputs": [],
   "source": [
    "x = 10"
   ]
  },
  {
   "cell_type": "code",
   "execution_count": 10,
   "metadata": {},
   "outputs": [
    {
     "name": "stdout",
     "output_type": "stream",
     "text": [
      "23\n"
     ]
    }
   ],
   "source": [
    "print (x + y)"
   ]
  },
  {
   "cell_type": "code",
   "execution_count": 12,
   "metadata": {},
   "outputs": [
    {
     "data": {
      "text/plain": [
       "int"
      ]
     },
     "execution_count": 12,
     "metadata": {},
     "output_type": "execute_result"
    }
   ],
   "source": [
    "type(x)"
   ]
  },
  {
   "cell_type": "code",
   "execution_count": 1,
   "metadata": {},
   "outputs": [],
   "source": [
    "my_name = 'Darius'"
   ]
  },
  {
   "cell_type": "code",
   "execution_count": 5,
   "metadata": {},
   "outputs": [
    {
     "data": {
      "text/plain": [
       "'s'"
      ]
     },
     "execution_count": 5,
     "metadata": {},
     "output_type": "execute_result"
    }
   ],
   "source": [
    "my_name[5]"
   ]
  },
  {
   "cell_type": "code",
   "execution_count": 6,
   "metadata": {},
   "outputs": [
    {
     "data": {
      "text/plain": [
       "'s'"
      ]
     },
     "execution_count": 6,
     "metadata": {},
     "output_type": "execute_result"
    }
   ],
   "source": [
    "my_name[-1]"
   ]
  },
  {
   "cell_type": "code",
   "execution_count": 15,
   "metadata": {},
   "outputs": [
    {
     "name": "stdout",
     "output_type": "stream",
     "text": [
      "Darius and more text' more text \n",
      "Darius and more text' more \" text \n",
      "Darius and more text' more \" text \n"
     ]
    }
   ],
   "source": [
    "# my_text = 'Darius and more text' more text ' # Error\n",
    "my_text =  \"Darius and more text' more text \"\n",
    "# my_text =  \"Darius and more text' more \" text \" # Error\n",
    "print (my_text)\n",
    "my_text =  \"Darius and more text\\' more \\\" text \" # option 2\n",
    "print (my_text)\n",
    "my_text =  \"\"\"Darius and more text' more \" text \"\"\" # option 3\n",
    "print (my_text)"
   ]
  },
  {
   "cell_type": "code",
   "execution_count": 23,
   "metadata": {},
   "outputs": [
    {
     "name": "stdout",
     "output_type": "stream",
     "text": [
      "Some text \n",
      "new line Text\n",
      "\n",
      "Some text \n",
      "new line Text\n",
      "more text\n",
      "hello\n",
      "\n"
     ]
    }
   ],
   "source": [
    "some_text = 'Some text \\nnew line Text' # \\n - new line\n",
    "print (some_text)\n",
    "some_text = \"\"\"\n",
    "Some text \n",
    "new line Text\n",
    "more text\n",
    "hello\n",
    "\"\"\"\n",
    "print (some_text)"
   ]
  },
  {
   "cell_type": "code",
   "execution_count": 20,
   "metadata": {},
   "outputs": [],
   "source": [
    "my_variable = \\\n",
    "    14"
   ]
  },
  {
   "cell_type": "code",
   "execution_count": 21,
   "metadata": {},
   "outputs": [
    {
     "data": {
      "text/plain": [
       "14"
      ]
     },
     "execution_count": 21,
     "metadata": {},
     "output_type": "execute_result"
    }
   ],
   "source": [
    "my_variable"
   ]
  },
  {
   "cell_type": "code",
   "execution_count": 24,
   "metadata": {},
   "outputs": [
    {
     "name": "stdout",
     "output_type": "stream",
     "text": [
      "The Zen of Python, by Tim Peters\n",
      "\n",
      "Beautiful is better than ugly.\n",
      "Explicit is better than implicit.\n",
      "Simple is better than complex.\n",
      "Complex is better than complicated.\n",
      "Flat is better than nested.\n",
      "Sparse is better than dense.\n",
      "Readability counts.\n",
      "Special cases aren't special enough to break the rules.\n",
      "Although practicality beats purity.\n",
      "Errors should never pass silently.\n",
      "Unless explicitly silenced.\n",
      "In the face of ambiguity, refuse the temptation to guess.\n",
      "There should be one-- and preferably only one --obvious way to do it.\n",
      "Although that way may not be obvious at first unless you're Dutch.\n",
      "Now is better than never.\n",
      "Although never is often better than *right* now.\n",
      "If the implementation is hard to explain, it's a bad idea.\n",
      "If the implementation is easy to explain, it may be a good idea.\n",
      "Namespaces are one honking great idea -- let's do more of those!\n"
     ]
    }
   ],
   "source": [
    "import this"
   ]
  },
  {
   "cell_type": "code",
   "execution_count": 27,
   "metadata": {},
   "outputs": [],
   "source": [
    "my_surname = 'Grigaliunas'"
   ]
  },
  {
   "cell_type": "code",
   "execution_count": 35,
   "metadata": {},
   "outputs": [
    {
     "name": "stdout",
     "output_type": "stream",
     "text": [
      "Darius\n",
      "Grigaliunas\n",
      "My name is Darius Grigaliunas\n",
      "DariusDariusDariusDariusDariusDariusDariusDariusDariusDarius\n"
     ]
    },
    {
     "ename": "TypeError",
     "evalue": "unsupported operand type(s) for /: 'str' and 'str'",
     "output_type": "error",
     "traceback": [
      "\u001b[1;31m---------------------------------------------------------------------------\u001b[0m",
      "\u001b[1;31mTypeError\u001b[0m                                 Traceback (most recent call last)",
      "\u001b[1;32m~\\AppData\\Local\\Temp/ipykernel_17296/2114794295.py\u001b[0m in \u001b[0;36m<module>\u001b[1;34m\u001b[0m\n\u001b[0;32m      4\u001b[0m \u001b[0mprint\u001b[0m \u001b[1;33m(\u001b[0m\u001b[0mmy_name\u001b[0m \u001b[1;33m*\u001b[0m \u001b[1;36m10\u001b[0m \u001b[1;33m)\u001b[0m\u001b[1;33m\u001b[0m\u001b[1;33m\u001b[0m\u001b[0m\n\u001b[0;32m      5\u001b[0m \u001b[1;31m# my_name - 'ar' # error\u001b[0m\u001b[1;33m\u001b[0m\u001b[1;33m\u001b[0m\u001b[1;33m\u001b[0m\u001b[0m\n\u001b[1;32m----> 6\u001b[1;33m \u001b[0mmy_name\u001b[0m \u001b[1;33m/\u001b[0m \u001b[1;34m'a'\u001b[0m \u001b[1;31m# error\u001b[0m\u001b[1;33m\u001b[0m\u001b[1;33m\u001b[0m\u001b[0m\n\u001b[0m",
      "\u001b[1;31mTypeError\u001b[0m: unsupported operand type(s) for /: 'str' and 'str'"
     ]
    }
   ],
   "source": [
    "print (my_name)\n",
    "print (my_surname)\n",
    "print ( 'My name is ' + my_name + ' ' + my_surname )\n",
    "print (my_name * 10 )\n",
    "# my_name - 'ar' # error\n",
    "my_name / 'a' # error"
   ]
  },
  {
   "cell_type": "code",
   "execution_count": 40,
   "metadata": {},
   "outputs": [
    {
     "name": "stdout",
     "output_type": "stream",
     "text": [
      "My name is Darius Grigaliunas\n",
      "My name is  Darius Grigaliunas\n",
      "My name is Darius Grigaliunas\n",
      "My name is Darius Grigaliunas\n"
     ]
    }
   ],
   "source": [
    "print ( 'My name is ' + my_name + ' ' + my_surname )\n",
    "print ( 'My name is ', my_name , my_surname )\n",
    "# f-string\n",
    "print ( f'My name is {my_name} {my_surname}' ) # preferred way of formatting\n",
    "print ( 'My name is {} {}'.format(my_name, my_surname) )"
   ]
  },
  {
   "cell_type": "code",
   "execution_count": 42,
   "metadata": {},
   "outputs": [
    {
     "name": "stdout",
     "output_type": "stream",
     "text": [
      "My name is Darius Grigaliunas and I am 25 years old\n",
      "My name is Darius Grigaliunas and I am 25 years old\n"
     ]
    }
   ],
   "source": [
    "my_age = 25\n",
    "print ( f'My name is {my_name} {my_surname} and I am {my_age} years old' ) # preferred way of formatting\n",
    "print ( 'My name is {} {} and I am {} years old'.format(my_name, my_surname, my_age) )"
   ]
  },
  {
   "cell_type": "code",
   "execution_count": 64,
   "metadata": {},
   "outputs": [
    {
     "name": "stdout",
     "output_type": "stream",
     "text": [
      "learn Python!\n",
      "learn \n",
      "P\n",
      "dIa vragyhhpyfayt er \n",
      "Hello\n",
      "Hlo\n",
      "!nohtyP nrael ottyrahfdyppahghsyrggayrev, ma I dlroW olleH\n"
     ]
    }
   ],
   "source": [
    "# slicing \n",
    "sentence = 'Hello World I am ,veryaggryshghappydfharytto learn Python!'\n",
    "sentence[0]\n",
    "print (sentence[45:] )\n",
    "print (sentence[45:51] )\n",
    "print (sentence[51] )\n",
    "print (sentence[10:51:2])\n",
    "# [start:end:step]  \n",
    "print (sentence[0:5])\n",
    "print (sentence[0:5:2])\n",
    "print (sentence[::-1])"
   ]
  },
  {
   "cell_type": "code",
   "execution_count": 66,
   "metadata": {},
   "outputs": [
    {
     "name": "stdout",
     "output_type": "stream",
     "text": [
      "17\n",
      ",\n",
      "Hello World I am \n"
     ]
    }
   ],
   "source": [
    "print (sentence.find(',') )\n",
    "print (sentence[sentence.find(',') ] )\n",
    "print (sentence[:sentence.find(',') ] )"
   ]
  },
  {
   "cell_type": "code",
   "execution_count": 69,
   "metadata": {},
   "outputs": [
    {
     "data": {
      "text/plain": [
       "4158"
      ]
     },
     "execution_count": 69,
     "metadata": {},
     "output_type": "execute_result"
    }
   ],
   "source": [
    "text_with_numbers = '1,15,35,4158,354'\n",
    "int( text_with_numbers.split(',')[3] )"
   ]
  },
  {
   "cell_type": "code",
   "execution_count": 73,
   "metadata": {},
   "outputs": [
    {
     "data": {
      "text/plain": [
       "'Darius Grigaliunas'"
      ]
     },
     "execution_count": 73,
     "metadata": {},
     "output_type": "execute_result"
    }
   ],
   "source": [
    "name = 'darius grigaliunas'\n",
    "# name.capitalize()\n",
    "# name.upper()\n",
    "name.title()"
   ]
  },
  {
   "cell_type": "code",
   "execution_count": 97,
   "metadata": {},
   "outputs": [
    {
     "name": "stdout",
     "output_type": "stream",
     "text": [
      "Hello World I am very happy to learn Python!\n",
      "Hello World I am ,veryaggryshghappydfharytto learn Python!\n",
      "Hello World I Am Very Happy To Learn Python!\n"
     ]
    }
   ],
   "source": [
    "sentence = 'Hello World I am ,veryaggryshghappydfharytto learn Python!'\n",
    "print (sentence.replace(',veryaggryshghappydfharytto', 'very happy to' ) ) # does not rewrites variable\n",
    "print (sentence)\n",
    "sentence = sentence.replace(',veryaggryshghappydfharytto', 'very happy to' ).title()\n",
    "print (sentence)"
   ]
  },
  {
   "cell_type": "code",
   "execution_count": 96,
   "metadata": {},
   "outputs": [
    {
     "name": "stdout",
     "output_type": "stream",
     "text": [
      "Hello World I am very happy to learn Python!\n",
      "44\n",
      "Python!\n",
      "Python!\n"
     ]
    }
   ],
   "source": [
    "print (sentence )\n",
    "print (len('Hello World I am very happy to learn Python!'))\n",
    "# print (type(sentence) )\n",
    "print (sentence[len(sentence) - 7: ])\n",
    "print (sentence[-7: ])"
   ]
  },
  {
   "cell_type": "code",
   "execution_count": 98,
   "metadata": {},
   "outputs": [
    {
     "name": "stdout",
     "output_type": "stream",
     "text": [
      "Darius Grigaliunas\n"
     ]
    }
   ],
   "source": [
    "my_name = 'Darius'\n",
    "my_surname = \"Grigaliunas\"\n",
    "print( f'{my_name} {my_surname}' )"
   ]
  },
  {
   "cell_type": "code",
   "execution_count": 107,
   "metadata": {},
   "outputs": [
    {
     "name": "stdout",
     "output_type": "stream",
     "text": [
      "PYTHON MAKES ME REALLY REALLY HAPPY! THIS\n",
      "PyThOn makes me really really happy! This\n",
      "PyThOn makes me really really happy! this\n"
     ]
    },
    {
     "ename": "TypeError",
     "evalue": "replace() takes at least 2 arguments (1 given)",
     "output_type": "error",
     "traceback": [
      "\u001b[1;31m---------------------------------------------------------------------------\u001b[0m",
      "\u001b[1;31mTypeError\u001b[0m                                 Traceback (most recent call last)",
      "\u001b[1;32m~\\AppData\\Local\\Temp/ipykernel_17296/2057972208.py\u001b[0m in \u001b[0;36m<module>\u001b[1;34m\u001b[0m\n\u001b[0;32m      4\u001b[0m \u001b[0mprint\u001b[0m\u001b[1;33m(\u001b[0m \u001b[0mmy_string\u001b[0m\u001b[1;33m.\u001b[0m\u001b[0mreplace\u001b[0m\u001b[1;33m(\u001b[0m\u001b[1;34m't'\u001b[0m\u001b[1;33m,\u001b[0m \u001b[1;34m'T'\u001b[0m\u001b[1;33m)\u001b[0m\u001b[1;33m.\u001b[0m\u001b[0mreplace\u001b[0m\u001b[1;33m(\u001b[0m\u001b[1;34m'o'\u001b[0m\u001b[1;33m,\u001b[0m \u001b[1;34m'O'\u001b[0m\u001b[1;33m)\u001b[0m \u001b[1;33m)\u001b[0m \u001b[1;31m# replaces all t and o\u001b[0m\u001b[1;33m\u001b[0m\u001b[1;33m\u001b[0m\u001b[0m\n\u001b[0;32m      5\u001b[0m \u001b[0mprint\u001b[0m\u001b[1;33m(\u001b[0m \u001b[0mmy_string\u001b[0m\u001b[1;33m.\u001b[0m\u001b[0mreplace\u001b[0m\u001b[1;33m(\u001b[0m\u001b[1;34m'Python'\u001b[0m\u001b[1;33m,\u001b[0m \u001b[1;34m'PyThOn'\u001b[0m\u001b[1;33m)\u001b[0m \u001b[1;33m)\u001b[0m\u001b[1;33m\u001b[0m\u001b[1;33m\u001b[0m\u001b[0m\n\u001b[1;32m----> 6\u001b[1;33m \u001b[0mprint\u001b[0m\u001b[1;33m(\u001b[0m\u001b[0mmy_string\u001b[0m\u001b[1;33m.\u001b[0m\u001b[0mreplace\u001b[0m\u001b[1;33m(\u001b[0m\u001b[1;34m'Python'\u001b[0m\u001b[1;33m[\u001b[0m\u001b[1;33m:\u001b[0m\u001b[1;33m:\u001b[0m\u001b[1;36m2\u001b[0m\u001b[1;33m]\u001b[0m\u001b[1;33m)\u001b[0m\u001b[1;33m)\u001b[0m\u001b[1;33m\u001b[0m\u001b[1;33m\u001b[0m\u001b[0m\n\u001b[0m",
      "\u001b[1;31mTypeError\u001b[0m: replace() takes at least 2 arguments (1 given)"
     ]
    }
   ],
   "source": [
    "my_string = 'Python makes me really really happy! this'\n",
    "print ( my_string.upper() )\n",
    "\n",
    "print( my_string.replace('t', 'T').replace('o', 'O') ) # replaces all t and o\n",
    "print( my_string.replace('Python', 'PyThOn') )\n",
    "print(my_string.replace('Python'[::2]))\n"
   ]
  },
  {
   "cell_type": "markdown",
   "metadata": {},
   "source": [
    "# Integers"
   ]
  },
  {
   "cell_type": "code",
   "execution_count": 108,
   "metadata": {},
   "outputs": [
    {
     "name": "stdout",
     "output_type": "stream",
     "text": [
      "The alternate case string is : PyThOn\n"
     ]
    }
   ],
   "source": [
    "another_string = \"Python\"\n",
    "\n",
    "# Using upper() + lower() + loop\n",
    "# Alternate cases in String\n",
    "replaced_string = \"\"\n",
    "for idx in range(len(another_string)):\n",
    "    if idx % 2:\n",
    "        replaced_string = replaced_string + another_string[idx].lower()\n",
    "    else:\n",
    "        replaced_string = replaced_string + another_string[idx].upper()\n",
    "\n",
    "# printing result\n",
    "print(\"The alternate case string is : \" + str(replaced_string))\n"
   ]
  },
  {
   "cell_type": "code",
   "execution_count": 120,
   "metadata": {},
   "outputs": [
    {
     "name": "stdout",
     "output_type": "stream",
     "text": [
      "24\n",
      "to\n",
      "44\n"
     ]
    }
   ],
   "source": [
    "my_sentence='Hello World, I am happy to learn Python!'\n",
    "word_to_find='to'\n",
    "print(my_sentence.index(word_to_find) )\n",
    "\n",
    "print(my_sentence[my_sentence.index(word_to_find):my_sentence.index(word_to_find)+len(word_to_find)])\n",
    "\n",
    "print( len(sentence) )"
   ]
  },
  {
   "cell_type": "markdown",
   "metadata": {},
   "source": [
    "# Homework"
   ]
  },
  {
   "cell_type": "code",
   "execution_count": 6,
   "metadata": {},
   "outputs": [
    {
     "name": "stdout",
     "output_type": "stream",
     "text": [
      "ex&rcis&\n"
     ]
    }
   ],
   "source": [
    "# 1. For a given string, change all occurrences of its first character to '&', except the first character itself. \n",
    "my_string = 'exercise'\n",
    "result = my_string[0] + my_string[1:].replace(my_string[0], '&' )\n",
    "print (result)"
   ]
  },
  {
   "cell_type": "code",
   "execution_count": 7,
   "metadata": {},
   "outputs": [
    {
     "name": "stdout",
     "output_type": "stream",
     "text": [
      "exc&rcis&\n"
     ]
    }
   ],
   "source": [
    "import re\n",
    "\n",
    "excercise01 = \"excercise\"\n",
    "character = \"&\"\n",
    "\n",
    "first_letter = excercise01[0]\n",
    "\n",
    "rep = re.sub(\"\\B(\"+ first_letter +\")\", character, excercise01)\n",
    "print(rep)"
   ]
  },
  {
   "cell_type": "code",
   "execution_count": 10,
   "metadata": {},
   "outputs": [
    {
     "name": "stdout",
     "output_type": "stream",
     "text": [
      "we few, we happy few, we band of brothers\n",
      "we\n"
     ]
    },
    {
     "data": {
      "text/plain": [
       "3"
      ]
     },
     "execution_count": 10,
     "metadata": {},
     "output_type": "execute_result"
    }
   ],
   "source": [
    "# 2.  Find all occurrences of a substring in a given text by ignoring the letter case.\n",
    "text = 'We few, we happy few, we band of brothers'\n",
    "substring = 'We'\n",
    "print (text.lower())\n",
    "print (substring.lower())\n",
    "text.lower().count(substring.lower())"
   ]
  },
  {
   "cell_type": "code",
   "execution_count": 12,
   "metadata": {},
   "outputs": [
    {
     "name": "stdout",
     "output_type": "stream",
     "text": [
      "['We', 'we', 'we']\n",
      "3\n"
     ]
    }
   ],
   "source": [
    "#Using regex\n",
    "import re\n",
    "text = 'We few, we happy few, we band of brothers'\n",
    "pattern = \"(?i)we\"\n",
    "rep = re.findall(pattern, text)\n",
    "print (rep)\n",
    "rep = len(rep)\n",
    "print(rep)"
   ]
  },
  {
   "cell_type": "code",
   "execution_count": 14,
   "metadata": {},
   "outputs": [
    {
     "data": {
      "text/plain": [
       "109"
      ]
     },
     "execution_count": 14,
     "metadata": {},
     "output_type": "execute_result"
    }
   ],
   "source": [
    "# 3. Find the last position (index) of a given substring.\n",
    "text = 'I felt happy because I saw the others were happy and because I knew I should feel happy, but I wasn’t really happy.'\n",
    "substring = 'happy'\n",
    "\n",
    "text.rfind(substring)\n"
   ]
  },
  {
   "cell_type": "code",
   "execution_count": 5,
   "metadata": {},
   "outputs": [
    {
     "data": {
      "text/plain": [
       "1"
      ]
     },
     "execution_count": 5,
     "metadata": {},
     "output_type": "execute_result"
    }
   ],
   "source": []
  }
 ],
 "metadata": {
  "interpreter": {
   "hash": "8c46c6c26e2733b62f4307cda0d230a15e363bc8de6d84ecceb81eda1bb129bc"
  },
  "kernelspec": {
   "display_name": "Python 3.7.9 64-bit",
   "language": "python",
   "name": "python3"
  },
  "language_info": {
   "codemirror_mode": {
    "name": "ipython",
    "version": 3
   },
   "file_extension": ".py",
   "mimetype": "text/x-python",
   "name": "python",
   "nbconvert_exporter": "python",
   "pygments_lexer": "ipython3",
   "version": "3.7.9"
  },
  "orig_nbformat": 4
 },
 "nbformat": 4,
 "nbformat_minor": 2
}
